{
  "cells": [
    {
      "cell_type": "markdown",
      "metadata": {
        "id": "view-in-github",
        "colab_type": "text"
      },
      "source": [
        "<a href=\"https://colab.research.google.com/github/Yunfan2020/10-30/blob/main/baseline_oversampling.ipynb\" target=\"_parent\"><img src=\"https://colab.research.google.com/assets/colab-badge.svg\" alt=\"Open In Colab\"/></a>"
      ]
    },
    {
      "cell_type": "code",
      "execution_count": 1,
      "id": "cd0be476",
      "metadata": {
        "id": "cd0be476"
      },
      "outputs": [],
      "source": [
        "import pandas as pd\n",
        "import seaborn as sns\n",
        "import matplotlib.pyplot as plt"
      ]
    },
    {
      "cell_type": "code",
      "source": [
        "from google.colab import drive\n",
        "drive.mount('/content/gdrive')\n",
        "\n",
        "import os\n",
        "#os.chdir('/content/gdrive/MyDrive/670/team_proj')#\n",
        "os.chdir('/content/gdrive/Shareddrives/SI670')"
      ],
      "metadata": {
        "colab": {
          "base_uri": "https://localhost:8080/"
        },
        "id": "xeV66EKPNr74",
        "outputId": "137e0757-26d9-4e5f-f7f5-6dcf2e066bb7"
      },
      "id": "xeV66EKPNr74",
      "execution_count": 2,
      "outputs": [
        {
          "output_type": "stream",
          "name": "stdout",
          "text": [
            "Drive already mounted at /content/gdrive; to attempt to forcibly remount, call drive.mount(\"/content/gdrive\", force_remount=True).\n"
          ]
        }
      ]
    },
    {
      "cell_type": "code",
      "execution_count": 3,
      "id": "c646c417",
      "metadata": {
        "id": "c646c417"
      },
      "outputs": [],
      "source": [
        "data=pd.read_csv('data.csv')\n",
        "data=data.iloc[:,1:]"
      ]
    },
    {
      "cell_type": "code",
      "execution_count": 4,
      "id": "1757678a",
      "metadata": {
        "colab": {
          "base_uri": "https://localhost:8080/",
          "height": 386
        },
        "id": "1757678a",
        "outputId": "998d1ce1-19fc-4deb-cca8-467532b51e77"
      },
      "outputs": [
        {
          "output_type": "execute_result",
          "data": {
            "text/plain": [
              "   True_False  Rain_ID  Intensity2  month  Season  Sewer_ID  \\\n",
              "0           1      105       0.115      8  Summer       744   \n",
              "1           1      163       0.010      6  Summer       744   \n",
              "2           1      312       0.003      7  Summer       744   \n",
              "3           1      316       0.015      8  Summer       744   \n",
              "4           1      310       0.033      7  Summer       744   \n",
              "\n",
              "           Drainage_type  df.Pop_den  Num_edges_pre  Road_width_mean  ...  \\\n",
              "0  Direct Drainage/Other    0.002781        0.00009         9.943902  ...   \n",
              "1  Direct Drainage/Other    0.002781        0.00009         9.943902  ...   \n",
              "2  Direct Drainage/Other    0.002781        0.00009         9.943902  ...   \n",
              "3  Direct Drainage/Other    0.002781        0.00009         9.943902  ...   \n",
              "4  Direct Drainage/Other    0.002781        0.00009         9.943902  ...   \n",
              "\n",
              "    Net_den  Net_area_den    Alpha      Beta      Gama         ETA      Theta  \\\n",
              "0  0.009902      0.097857  0.20037  1.400493  0.466946  109.505883  157.94325   \n",
              "1  0.009902      0.097857  0.20037  1.400493  0.466946  109.505883  157.94325   \n",
              "2  0.009902      0.097857  0.20037  1.400493  0.466946  109.505883  157.94325   \n",
              "3  0.009902      0.097857  0.20037  1.400493  0.466946  109.505883  157.94325   \n",
              "4  0.009902      0.097857  0.20037  1.400493  0.466946  109.505883  157.94325   \n",
              "\n",
              "   Sewer_Pre_impv  Sewer_CB_pre  Hours  \n",
              "0        0.747251      0.000114     54  \n",
              "1        0.747251      0.000114     20  \n",
              "2        0.747251      0.000114     23  \n",
              "3        0.747251      0.000114     23  \n",
              "4        0.747251      0.000114     54  \n",
              "\n",
              "[5 rows x 26 columns]"
            ],
            "text/html": [
              "\n",
              "  <div id=\"df-46553afd-6cd3-423c-b3a9-525897df36bc\">\n",
              "    <div class=\"colab-df-container\">\n",
              "      <div>\n",
              "<style scoped>\n",
              "    .dataframe tbody tr th:only-of-type {\n",
              "        vertical-align: middle;\n",
              "    }\n",
              "\n",
              "    .dataframe tbody tr th {\n",
              "        vertical-align: top;\n",
              "    }\n",
              "\n",
              "    .dataframe thead th {\n",
              "        text-align: right;\n",
              "    }\n",
              "</style>\n",
              "<table border=\"1\" class=\"dataframe\">\n",
              "  <thead>\n",
              "    <tr style=\"text-align: right;\">\n",
              "      <th></th>\n",
              "      <th>True_False</th>\n",
              "      <th>Rain_ID</th>\n",
              "      <th>Intensity2</th>\n",
              "      <th>month</th>\n",
              "      <th>Season</th>\n",
              "      <th>Sewer_ID</th>\n",
              "      <th>Drainage_type</th>\n",
              "      <th>df.Pop_den</th>\n",
              "      <th>Num_edges_pre</th>\n",
              "      <th>Road_width_mean</th>\n",
              "      <th>...</th>\n",
              "      <th>Net_den</th>\n",
              "      <th>Net_area_den</th>\n",
              "      <th>Alpha</th>\n",
              "      <th>Beta</th>\n",
              "      <th>Gama</th>\n",
              "      <th>ETA</th>\n",
              "      <th>Theta</th>\n",
              "      <th>Sewer_Pre_impv</th>\n",
              "      <th>Sewer_CB_pre</th>\n",
              "      <th>Hours</th>\n",
              "    </tr>\n",
              "  </thead>\n",
              "  <tbody>\n",
              "    <tr>\n",
              "      <th>0</th>\n",
              "      <td>1</td>\n",
              "      <td>105</td>\n",
              "      <td>0.115</td>\n",
              "      <td>8</td>\n",
              "      <td>Summer</td>\n",
              "      <td>744</td>\n",
              "      <td>Direct Drainage/Other</td>\n",
              "      <td>0.002781</td>\n",
              "      <td>0.00009</td>\n",
              "      <td>9.943902</td>\n",
              "      <td>...</td>\n",
              "      <td>0.009902</td>\n",
              "      <td>0.097857</td>\n",
              "      <td>0.20037</td>\n",
              "      <td>1.400493</td>\n",
              "      <td>0.466946</td>\n",
              "      <td>109.505883</td>\n",
              "      <td>157.94325</td>\n",
              "      <td>0.747251</td>\n",
              "      <td>0.000114</td>\n",
              "      <td>54</td>\n",
              "    </tr>\n",
              "    <tr>\n",
              "      <th>1</th>\n",
              "      <td>1</td>\n",
              "      <td>163</td>\n",
              "      <td>0.010</td>\n",
              "      <td>6</td>\n",
              "      <td>Summer</td>\n",
              "      <td>744</td>\n",
              "      <td>Direct Drainage/Other</td>\n",
              "      <td>0.002781</td>\n",
              "      <td>0.00009</td>\n",
              "      <td>9.943902</td>\n",
              "      <td>...</td>\n",
              "      <td>0.009902</td>\n",
              "      <td>0.097857</td>\n",
              "      <td>0.20037</td>\n",
              "      <td>1.400493</td>\n",
              "      <td>0.466946</td>\n",
              "      <td>109.505883</td>\n",
              "      <td>157.94325</td>\n",
              "      <td>0.747251</td>\n",
              "      <td>0.000114</td>\n",
              "      <td>20</td>\n",
              "    </tr>\n",
              "    <tr>\n",
              "      <th>2</th>\n",
              "      <td>1</td>\n",
              "      <td>312</td>\n",
              "      <td>0.003</td>\n",
              "      <td>7</td>\n",
              "      <td>Summer</td>\n",
              "      <td>744</td>\n",
              "      <td>Direct Drainage/Other</td>\n",
              "      <td>0.002781</td>\n",
              "      <td>0.00009</td>\n",
              "      <td>9.943902</td>\n",
              "      <td>...</td>\n",
              "      <td>0.009902</td>\n",
              "      <td>0.097857</td>\n",
              "      <td>0.20037</td>\n",
              "      <td>1.400493</td>\n",
              "      <td>0.466946</td>\n",
              "      <td>109.505883</td>\n",
              "      <td>157.94325</td>\n",
              "      <td>0.747251</td>\n",
              "      <td>0.000114</td>\n",
              "      <td>23</td>\n",
              "    </tr>\n",
              "    <tr>\n",
              "      <th>3</th>\n",
              "      <td>1</td>\n",
              "      <td>316</td>\n",
              "      <td>0.015</td>\n",
              "      <td>8</td>\n",
              "      <td>Summer</td>\n",
              "      <td>744</td>\n",
              "      <td>Direct Drainage/Other</td>\n",
              "      <td>0.002781</td>\n",
              "      <td>0.00009</td>\n",
              "      <td>9.943902</td>\n",
              "      <td>...</td>\n",
              "      <td>0.009902</td>\n",
              "      <td>0.097857</td>\n",
              "      <td>0.20037</td>\n",
              "      <td>1.400493</td>\n",
              "      <td>0.466946</td>\n",
              "      <td>109.505883</td>\n",
              "      <td>157.94325</td>\n",
              "      <td>0.747251</td>\n",
              "      <td>0.000114</td>\n",
              "      <td>23</td>\n",
              "    </tr>\n",
              "    <tr>\n",
              "      <th>4</th>\n",
              "      <td>1</td>\n",
              "      <td>310</td>\n",
              "      <td>0.033</td>\n",
              "      <td>7</td>\n",
              "      <td>Summer</td>\n",
              "      <td>744</td>\n",
              "      <td>Direct Drainage/Other</td>\n",
              "      <td>0.002781</td>\n",
              "      <td>0.00009</td>\n",
              "      <td>9.943902</td>\n",
              "      <td>...</td>\n",
              "      <td>0.009902</td>\n",
              "      <td>0.097857</td>\n",
              "      <td>0.20037</td>\n",
              "      <td>1.400493</td>\n",
              "      <td>0.466946</td>\n",
              "      <td>109.505883</td>\n",
              "      <td>157.94325</td>\n",
              "      <td>0.747251</td>\n",
              "      <td>0.000114</td>\n",
              "      <td>54</td>\n",
              "    </tr>\n",
              "  </tbody>\n",
              "</table>\n",
              "<p>5 rows × 26 columns</p>\n",
              "</div>\n",
              "      <button class=\"colab-df-convert\" onclick=\"convertToInteractive('df-46553afd-6cd3-423c-b3a9-525897df36bc')\"\n",
              "              title=\"Convert this dataframe to an interactive table.\"\n",
              "              style=\"display:none;\">\n",
              "        \n",
              "  <svg xmlns=\"http://www.w3.org/2000/svg\" height=\"24px\"viewBox=\"0 0 24 24\"\n",
              "       width=\"24px\">\n",
              "    <path d=\"M0 0h24v24H0V0z\" fill=\"none\"/>\n",
              "    <path d=\"M18.56 5.44l.94 2.06.94-2.06 2.06-.94-2.06-.94-.94-2.06-.94 2.06-2.06.94zm-11 1L8.5 8.5l.94-2.06 2.06-.94-2.06-.94L8.5 2.5l-.94 2.06-2.06.94zm10 10l.94 2.06.94-2.06 2.06-.94-2.06-.94-.94-2.06-.94 2.06-2.06.94z\"/><path d=\"M17.41 7.96l-1.37-1.37c-.4-.4-.92-.59-1.43-.59-.52 0-1.04.2-1.43.59L10.3 9.45l-7.72 7.72c-.78.78-.78 2.05 0 2.83L4 21.41c.39.39.9.59 1.41.59.51 0 1.02-.2 1.41-.59l7.78-7.78 2.81-2.81c.8-.78.8-2.07 0-2.86zM5.41 20L4 18.59l7.72-7.72 1.47 1.35L5.41 20z\"/>\n",
              "  </svg>\n",
              "      </button>\n",
              "      \n",
              "  <style>\n",
              "    .colab-df-container {\n",
              "      display:flex;\n",
              "      flex-wrap:wrap;\n",
              "      gap: 12px;\n",
              "    }\n",
              "\n",
              "    .colab-df-convert {\n",
              "      background-color: #E8F0FE;\n",
              "      border: none;\n",
              "      border-radius: 50%;\n",
              "      cursor: pointer;\n",
              "      display: none;\n",
              "      fill: #1967D2;\n",
              "      height: 32px;\n",
              "      padding: 0 0 0 0;\n",
              "      width: 32px;\n",
              "    }\n",
              "\n",
              "    .colab-df-convert:hover {\n",
              "      background-color: #E2EBFA;\n",
              "      box-shadow: 0px 1px 2px rgba(60, 64, 67, 0.3), 0px 1px 3px 1px rgba(60, 64, 67, 0.15);\n",
              "      fill: #174EA6;\n",
              "    }\n",
              "\n",
              "    [theme=dark] .colab-df-convert {\n",
              "      background-color: #3B4455;\n",
              "      fill: #D2E3FC;\n",
              "    }\n",
              "\n",
              "    [theme=dark] .colab-df-convert:hover {\n",
              "      background-color: #434B5C;\n",
              "      box-shadow: 0px 1px 3px 1px rgba(0, 0, 0, 0.15);\n",
              "      filter: drop-shadow(0px 1px 2px rgba(0, 0, 0, 0.3));\n",
              "      fill: #FFFFFF;\n",
              "    }\n",
              "  </style>\n",
              "\n",
              "      <script>\n",
              "        const buttonEl =\n",
              "          document.querySelector('#df-46553afd-6cd3-423c-b3a9-525897df36bc button.colab-df-convert');\n",
              "        buttonEl.style.display =\n",
              "          google.colab.kernel.accessAllowed ? 'block' : 'none';\n",
              "\n",
              "        async function convertToInteractive(key) {\n",
              "          const element = document.querySelector('#df-46553afd-6cd3-423c-b3a9-525897df36bc');\n",
              "          const dataTable =\n",
              "            await google.colab.kernel.invokeFunction('convertToInteractive',\n",
              "                                                     [key], {});\n",
              "          if (!dataTable) return;\n",
              "\n",
              "          const docLinkHtml = 'Like what you see? Visit the ' +\n",
              "            '<a target=\"_blank\" href=https://colab.research.google.com/notebooks/data_table.ipynb>data table notebook</a>'\n",
              "            + ' to learn more about interactive tables.';\n",
              "          element.innerHTML = '';\n",
              "          dataTable['output_type'] = 'display_data';\n",
              "          await google.colab.output.renderOutput(dataTable, element);\n",
              "          const docLink = document.createElement('div');\n",
              "          docLink.innerHTML = docLinkHtml;\n",
              "          element.appendChild(docLink);\n",
              "        }\n",
              "      </script>\n",
              "    </div>\n",
              "  </div>\n",
              "  "
            ]
          },
          "metadata": {},
          "execution_count": 4
        }
      ],
      "source": [
        "data.head()"
      ]
    },
    {
      "cell_type": "code",
      "execution_count": 5,
      "id": "01bcf8ea",
      "metadata": {
        "colab": {
          "base_uri": "https://localhost:8080/"
        },
        "id": "01bcf8ea",
        "outputId": "8ff051d3-0fe3-4119-9821-e8e39adc52fc"
      },
      "outputs": [
        {
          "output_type": "execute_result",
          "data": {
            "text/plain": [
              "0    524174\n",
              "1     18698\n",
              "Name: True_False, dtype: int64"
            ]
          },
          "metadata": {},
          "execution_count": 5
        }
      ],
      "source": [
        "data['True_False'].value_counts() "
      ]
    },
    {
      "cell_type": "code",
      "execution_count": 6,
      "id": "d4b21fa4",
      "metadata": {
        "colab": {
          "base_uri": "https://localhost:8080/"
        },
        "id": "d4b21fa4",
        "outputId": "2332b41e-164e-4c28-899f-672122b99860"
      },
      "outputs": [
        {
          "output_type": "execute_result",
          "data": {
            "text/plain": [
              "0.0344427415670729"
            ]
          },
          "metadata": {},
          "execution_count": 6
        }
      ],
      "source": [
        "18698/len(data) #only 3% are True? (not sure 0=False, 1=True)"
      ]
    },
    {
      "cell_type": "code",
      "source": [
        "data.drop_duplicates()['True_False'].value_counts()"
      ],
      "metadata": {
        "colab": {
          "base_uri": "https://localhost:8080/"
        },
        "id": "Gn5Q2FaqcUIE",
        "outputId": "c47352ca-5381-48e1-8a2c-00b0653df570"
      },
      "id": "Gn5Q2FaqcUIE",
      "execution_count": 7,
      "outputs": [
        {
          "output_type": "execute_result",
          "data": {
            "text/plain": [
              "0    524174\n",
              "1      6850\n",
              "Name: True_False, dtype: int64"
            ]
          },
          "metadata": {},
          "execution_count": 7
        }
      ]
    },
    {
      "cell_type": "code",
      "source": [
        "6850/(524174+6850) #after dropping duplicates, only 1.2% are true. "
      ],
      "metadata": {
        "colab": {
          "base_uri": "https://localhost:8080/"
        },
        "id": "FPGxYTAJcr1U",
        "outputId": "871c9cd2-6fff-45b9-8efe-2dd9f287117b"
      },
      "id": "FPGxYTAJcr1U",
      "execution_count": 8,
      "outputs": [
        {
          "output_type": "execute_result",
          "data": {
            "text/plain": [
              "0.012899605290909638"
            ]
          },
          "metadata": {},
          "execution_count": 8
        }
      ]
    },
    {
      "cell_type": "code",
      "source": [],
      "metadata": {
        "id": "UFzadCQstAvO"
      },
      "id": "UFzadCQstAvO",
      "execution_count": 8,
      "outputs": []
    },
    {
      "cell_type": "markdown",
      "source": [
        "## EDA"
      ],
      "metadata": {
        "id": "vMsuUCc2tBTL"
      },
      "id": "vMsuUCc2tBTL"
    },
    {
      "cell_type": "code",
      "source": [
        "#Yunfan - your plots here\n",
        "sns.displot(data, x=\"month\", discrete=True).set(title = 'Month distribution')"
      ],
      "metadata": {
        "id": "Y893LcgXtDlD",
        "colab": {
          "base_uri": "https://localhost:8080/",
          "height": 402
        },
        "outputId": "0774575b-95e3-48b4-933d-7662fb8455bd"
      },
      "id": "Y893LcgXtDlD",
      "execution_count": 9,
      "outputs": [
        {
          "output_type": "execute_result",
          "data": {
            "text/plain": [
              "<seaborn.axisgrid.FacetGrid at 0x7f493426ea90>"
            ]
          },
          "metadata": {},
          "execution_count": 9
        },
        {
          "output_type": "display_data",
          "data": {
            "text/plain": [
              "<Figure size 360x360 with 1 Axes>"
            ],
            "image/png": "[encoded data removed]"
          },
          "metadata": {
            "needs_background": "light"
          }
        }
      ]
    },
    {
      "cell_type": "code",
      "source": [
        "sns.displot(data, x=\"Hours\", kind=\"kde\").set(title = 'Hours distribution')"
      ],
      "metadata": {
        "id": "2svf7Ag5tDna",
        "colab": {
          "base_uri": "https://localhost:8080/",
          "height": 402
        },
        "outputId": "96460721-2c42-4a3f-8d94-9fec6441321c"
      },
      "id": "2svf7Ag5tDna",
      "execution_count": 10,
      "outputs": [
        {
          "output_type": "execute_result",
          "data": {
            "text/plain": [
              "<seaborn.axisgrid.FacetGrid at 0x7f4931075150>"
            ]
          },
          "metadata": {},
          "execution_count": 10
        },
        {
          "output_type": "display_data",
          "data": {
            "text/plain": [
              "<Figure size 360x360 with 1 Axes>"
            ],
            "image/png": "[encoded data removed]"
          },
          "metadata": {
            "needs_background": "light"
          }
        }
      ]
    },
    {
      "cell_type": "code",
      "source": [
        "plt.figure(figsize=(16, 16))\n",
        "heatmap = sns.heatmap(data.corr(), vmin=-1, vmax=1, annot=False)\n",
        "heatmap.set_title('Correlation Heatmap', fontdict={'fontsize': 12}, pad=12)"
      ],
      "metadata": {
        "id": "X1TU2tcUtDpK",
        "colab": {
          "base_uri": "https://localhost:8080/",
          "height": 1000
        },
        "outputId": "9d0a6059-e8c5-43ea-be46-1be42fd65b2f"
      },
      "id": "X1TU2tcUtDpK",
      "execution_count": 11,
      "outputs": [
        {
          "output_type": "execute_result",
          "data": {
            "text/plain": [
              "Text(0.5, 1.0, 'Correlation Heatmap')"
            ]
          },
          "metadata": {},
          "execution_count": 11
        },
        {
          "output_type": "display_data",
          "data": {
            "text/plain": [
              "<Figure size 1152x1152 with 2 Axes>"
            ],
            "image/png": "[encoded data removed]"
          },
          "metadata": {
            "needs_background": "light"
          }
        }
      ]
    },
    {
      "cell_type": "markdown",
      "source": [
        "## Adding a feature - count of reports grouped by sewer_ID"
      ],
      "metadata": {
        "id": "xH8zSfTadBSM"
      },
      "id": "xH8zSfTadBSM"
    },
    {
      "cell_type": "code",
      "source": [
        "sewer_grouped=data.groupby(['Sewer_ID']).sum()['True_False']\n",
        "sewer_grouped"
      ],
      "metadata": {
        "colab": {
          "base_uri": "https://localhost:8080/"
        },
        "id": "zoQutzL7dAZU",
        "outputId": "5ddfdf78-c13b-4312-c65a-63c906eec992"
      },
      "id": "zoQutzL7dAZU",
      "execution_count": 12,
      "outputs": [
        {
          "output_type": "execute_result",
          "data": {
            "text/plain": [
              "Sewer_ID\n",
              "0       5\n",
              "1       4\n",
              "2       1\n",
              "3       1\n",
              "4       9\n",
              "       ..\n",
              "812     0\n",
              "814     0\n",
              "815     0\n",
              "816     0\n",
              "817    32\n",
              "Name: True_False, Length: 733, dtype: int64"
            ]
          },
          "metadata": {},
          "execution_count": 12
        }
      ]
    },
    {
      "cell_type": "code",
      "source": [
        "new_df=data.merge(sewer_grouped, left_on='Sewer_ID', right_on='Sewer_ID') #\"Severity\""
      ],
      "metadata": {
        "id": "1usUv3RxdAb9"
      },
      "id": "1usUv3RxdAb9",
      "execution_count": 13,
      "outputs": []
    },
    {
      "cell_type": "code",
      "source": [
        "new_df #wet and dry season => 4,5,6,7 are rainy season"
      ],
      "metadata": {
        "colab": {
          "base_uri": "https://localhost:8080/",
          "height": 661
        },
        "id": "1qGvnUWpgrtF",
        "outputId": "5a3c8851-e689-489e-ee1f-3c60608f6664"
      },
      "id": "1qGvnUWpgrtF",
      "execution_count": 14,
      "outputs": [
        {
          "output_type": "execute_result",
          "data": {
            "text/plain": [
              "        True_False_x  Rain_ID  Intensity2  month   Season  Sewer_ID  \\\n",
              "0                  1      105       0.115      8   Summer       744   \n",
              "1                  1      163       0.010      6   Summer       744   \n",
              "2                  1      312       0.003      7   Summer       744   \n",
              "3                  1      316       0.015      8   Summer       744   \n",
              "4                  1      310       0.033      7   Summer       744   \n",
              "...              ...      ...         ...    ...      ...       ...   \n",
              "542867             0      393       0.065      8   Summer       588   \n",
              "542868             0      535       0.023      8   Summer       588   \n",
              "542869             0      539       0.044      9  Auturmn       588   \n",
              "542870             0      788       0.050     11  Auturmn       588   \n",
              "542871             0      870       0.004     12   Winter       588   \n",
              "\n",
              "                Drainage_type  df.Pop_den  Num_edges_pre  Road_width_mean  \\\n",
              "0       Direct Drainage/Other    0.002781       0.000090         9.943902   \n",
              "1       Direct Drainage/Other    0.002781       0.000090         9.943902   \n",
              "2       Direct Drainage/Other    0.002781       0.000090         9.943902   \n",
              "3       Direct Drainage/Other    0.002781       0.000090         9.943902   \n",
              "4       Direct Drainage/Other    0.002781       0.000090         9.943902   \n",
              "...                       ...         ...            ...              ...   \n",
              "542867  Direct Drainage/Other    4.177504       0.000012        21.336000   \n",
              "542868  Direct Drainage/Other    4.177504       0.000012        21.336000   \n",
              "542869  Direct Drainage/Other    4.177504       0.000012        21.336000   \n",
              "542870  Direct Drainage/Other    4.177504       0.000012        21.336000   \n",
              "542871  Direct Drainage/Other    4.177504       0.000012        21.336000   \n",
              "\n",
              "        ...  Net_area_den    Alpha      Beta      Gama         ETA      Theta  \\\n",
              "0       ...      0.097857  0.20037  1.400493  0.466946  109.505883  157.94325   \n",
              "1       ...      0.097857  0.20037  1.400493  0.466946  109.505883  157.94325   \n",
              "2       ...      0.097857  0.20037  1.400493  0.466946  109.505883  157.94325   \n",
              "3       ...      0.097857  0.20037  1.400493  0.466946  109.505883  157.94325   \n",
              "4       ...      0.097857  0.20037  1.400493  0.466946  109.505883  157.94325   \n",
              "...     ...           ...      ...       ...       ...         ...        ...   \n",
              "542867  ...      0.007180  0.00000  0.000000  0.000000   27.805970    0.00000   \n",
              "542868  ...      0.007180  0.00000  0.000000  0.000000   27.805970    0.00000   \n",
              "542869  ...      0.007180  0.00000  0.000000  0.000000   27.805970    0.00000   \n",
              "542870  ...      0.007180  0.00000  0.000000  0.000000   27.805970    0.00000   \n",
              "542871  ...      0.007180  0.00000  0.000000  0.000000   27.805970    0.00000   \n",
              "\n",
              "        Sewer_Pre_impv  Sewer_CB_pre  Hours  True_False_y  \n",
              "0             0.747251      0.000114     54          7087  \n",
              "1             0.747251      0.000114     20          7087  \n",
              "2             0.747251      0.000114     23          7087  \n",
              "3             0.747251      0.000114     23          7087  \n",
              "4             0.747251      0.000114     54          7087  \n",
              "...                ...           ...    ...           ...  \n",
              "542867        0.999602      0.000030      2             0  \n",
              "542868        0.999602      0.000030     12             0  \n",
              "542869        0.999602      0.000030      5             0  \n",
              "542870        0.999602      0.000030      8             0  \n",
              "542871        0.999602      0.000030     20             0  \n",
              "\n",
              "[542872 rows x 27 columns]"
            ],
            "text/html": [
              "\n",
              "  <div id=\"df-430709b3-671b-4ca5-a586-f068fe2a909d\">\n",
              "    <div class=\"colab-df-container\">\n",
              "      <div>\n",
              "<style scoped>\n",
              "    .dataframe tbody tr th:only-of-type {\n",
              "        vertical-align: middle;\n",
              "    }\n",
              "\n",
              "    .dataframe tbody tr th {\n",
              "        vertical-align: top;\n",
              "    }\n",
              "\n",
              "    .dataframe thead th {\n",
              "        text-align: right;\n",
              "    }\n",
              "</style>\n",
              "<table border=\"1\" class=\"dataframe\">\n",
              "  <thead>\n",
              "    <tr style=\"text-align: right;\">\n",
              "      <th></th>\n",
              "      <th>True_False_x</th>\n",
              "      <th>Rain_ID</th>\n",
              "      <th>Intensity2</th>\n",
              "      <th>month</th>\n",
              "      <th>Season</th>\n",
              "      <th>Sewer_ID</th>\n",
              "      <th>Drainage_type</th>\n",
              "      <th>df.Pop_den</th>\n",
              "      <th>Num_edges_pre</th>\n",
              "      <th>Road_width_mean</th>\n",
              "      <th>...</th>\n",
              "      <th>Net_area_den</th>\n",
              "      <th>Alpha</th>\n",
              "      <th>Beta</th>\n",
              "      <th>Gama</th>\n",
              "      <th>ETA</th>\n",
              "      <th>Theta</th>\n",
              "      <th>Sewer_Pre_impv</th>\n",
              "      <th>Sewer_CB_pre</th>\n",
              "      <th>Hours</th>\n",
              "      <th>True_False_y</th>\n",
              "    </tr>\n",
              "  </thead>\n",
              "  <tbody>\n",
              "    <tr>\n",
              "      <th>0</th>\n",
              "      <td>1</td>\n",
              "      <td>105</td>\n",
              "      <td>0.115</td>\n",
              "      <td>8</td>\n",
              "      <td>Summer</td>\n",
              "      <td>744</td>\n",
              "      <td>Direct Drainage/Other</td>\n",
              "      <td>0.002781</td>\n",
              "      <td>0.000090</td>\n",
              "      <td>9.943902</td>\n",
              "      <td>...</td>\n",
              "      <td>0.097857</td>\n",
              "      <td>0.20037</td>\n",
              "      <td>1.400493</td>\n",
              "      <td>0.466946</td>\n",
              "      <td>109.505883</td>\n",
              "      <td>157.94325</td>\n",
              "      <td>0.747251</td>\n",
              "      <td>0.000114</td>\n",
              "      <td>54</td>\n",
              "      <td>7087</td>\n",
              "    </tr>\n",
              "    <tr>\n",
              "      <th>1</th>\n",
              "      <td>1</td>\n",
              "      <td>163</td>\n",
              "      <td>0.010</td>\n",
              "      <td>6</td>\n",
              "      <td>Summer</td>\n",
              "      <td>744</td>\n",
              "      <td>Direct Drainage/Other</td>\n",
              "      <td>0.002781</td>\n",
              "      <td>0.000090</td>\n",
              "      <td>9.943902</td>\n",
              "      <td>...</td>\n",
              "      <td>0.097857</td>\n",
              "      <td>0.20037</td>\n",
              "      <td>1.400493</td>\n",
              "      <td>0.466946</td>\n",
              "      <td>109.505883</td>\n",
              "      <td>157.94325</td>\n",
              "      <td>0.747251</td>\n",
              "      <td>0.000114</td>\n",
              "      <td>20</td>\n",
              "      <td>7087</td>\n",
              "    </tr>\n",
              "    <tr>\n",
              "      <th>2</th>\n",
              "      <td>1</td>\n",
              "      <td>312</td>\n",
              "      <td>0.003</td>\n",
              "      <td>7</td>\n",
              "      <td>Summer</td>\n",
              "      <td>744</td>\n",
              "      <td>Direct Drainage/Other</td>\n",
              "      <td>0.002781</td>\n",
              "      <td>0.000090</td>\n",
              "      <td>9.943902</td>\n",
              "      <td>...</td>\n",
              "      <td>0.097857</td>\n",
              "      <td>0.20037</td>\n",
              "      <td>1.400493</td>\n",
              "      <td>0.466946</td>\n",
              "      <td>109.505883</td>\n",
              "      <td>157.94325</td>\n",
              "      <td>0.747251</td>\n",
              "      <td>0.000114</td>\n",
              "      <td>23</td>\n",
              "      <td>7087</td>\n",
              "    </tr>\n",
              "    <tr>\n",
              "      <th>3</th>\n",
              "      <td>1</td>\n",
              "      <td>316</td>\n",
              "      <td>0.015</td>\n",
              "      <td>8</td>\n",
              "      <td>Summer</td>\n",
              "      <td>744</td>\n",
              "      <td>Direct Drainage/Other</td>\n",
              "      <td>0.002781</td>\n",
              "      <td>0.000090</td>\n",
              "      <td>9.943902</td>\n",
              "      <td>...</td>\n",
              "      <td>0.097857</td>\n",
              "      <td>0.20037</td>\n",
              "      <td>1.400493</td>\n",
              "      <td>0.466946</td>\n",
              "      <td>109.505883</td>\n",
              "      <td>157.94325</td>\n",
              "      <td>0.747251</td>\n",
              "      <td>0.000114</td>\n",
              "      <td>23</td>\n",
              "      <td>7087</td>\n",
              "    </tr>\n",
              "    <tr>\n",
              "      <th>4</th>\n",
              "      <td>1</td>\n",
              "      <td>310</td>\n",
              "      <td>0.033</td>\n",
              "      <td>7</td>\n",
              "      <td>Summer</td>\n",
              "      <td>744</td>\n",
              "      <td>Direct Drainage/Other</td>\n",
              "      <td>0.002781</td>\n",
              "      <td>0.000090</td>\n",
              "      <td>9.943902</td>\n",
              "      <td>...</td>\n",
              "      <td>0.097857</td>\n",
              "      <td>0.20037</td>\n",
              "      <td>1.400493</td>\n",
              "      <td>0.466946</td>\n",
              "      <td>109.505883</td>\n",
              "      <td>157.94325</td>\n",
              "      <td>0.747251</td>\n",
              "      <td>0.000114</td>\n",
              "      <td>54</td>\n",
              "      <td>7087</td>\n",
              "    </tr>\n",
              "    <tr>\n",
              "      <th>...</th>\n",
              "      <td>...</td>\n",
              "      <td>...</td>\n",
              "      <td>...</td>\n",
              "      <td>...</td>\n",
              "      <td>...</td>\n",
              "      <td>...</td>\n",
              "      <td>...</td>\n",
              "      <td>...</td>\n",
              "      <td>...</td>\n",
              "      <td>...</td>\n",
              "      <td>...</td>\n",
              "      <td>...</td>\n",
              "      <td>...</td>\n",
              "      <td>...</td>\n",
              "      <td>...</td>\n",
              "      <td>...</td>\n",
              "      <td>...</td>\n",
              "      <td>...</td>\n",
              "      <td>...</td>\n",
              "      <td>...</td>\n",
              "      <td>...</td>\n",
              "    </tr>\n",
              "    <tr>\n",
              "      <th>542867</th>\n",
              "      <td>0</td>\n",
              "      <td>393</td>\n",
              "      <td>0.065</td>\n",
              "      <td>8</td>\n",
              "      <td>Summer</td>\n",
              "      <td>588</td>\n",
              "      <td>Direct Drainage/Other</td>\n",
              "      <td>4.177504</td>\n",
              "      <td>0.000012</td>\n",
              "      <td>21.336000</td>\n",
              "      <td>...</td>\n",
              "      <td>0.007180</td>\n",
              "      <td>0.00000</td>\n",
              "      <td>0.000000</td>\n",
              "      <td>0.000000</td>\n",
              "      <td>27.805970</td>\n",
              "      <td>0.00000</td>\n",
              "      <td>0.999602</td>\n",
              "      <td>0.000030</td>\n",
              "      <td>2</td>\n",
              "      <td>0</td>\n",
              "    </tr>\n",
              "    <tr>\n",
              "      <th>542868</th>\n",
              "      <td>0</td>\n",
              "      <td>535</td>\n",
              "      <td>0.023</td>\n",
              "      <td>8</td>\n",
              "      <td>Summer</td>\n",
              "      <td>588</td>\n",
              "      <td>Direct Drainage/Other</td>\n",
              "      <td>4.177504</td>\n",
              "      <td>0.000012</td>\n",
              "      <td>21.336000</td>\n",
              "      <td>...</td>\n",
              "      <td>0.007180</td>\n",
              "      <td>0.00000</td>\n",
              "      <td>0.000000</td>\n",
              "      <td>0.000000</td>\n",
              "      <td>27.805970</td>\n",
              "      <td>0.00000</td>\n",
              "      <td>0.999602</td>\n",
              "      <td>0.000030</td>\n",
              "      <td>12</td>\n",
              "      <td>0</td>\n",
              "    </tr>\n",
              "    <tr>\n",
              "      <th>542869</th>\n",
              "      <td>0</td>\n",
              "      <td>539</td>\n",
              "      <td>0.044</td>\n",
              "      <td>9</td>\n",
              "      <td>Auturmn</td>\n",
              "      <td>588</td>\n",
              "      <td>Direct Drainage/Other</td>\n",
              "      <td>4.177504</td>\n",
              "      <td>0.000012</td>\n",
              "      <td>21.336000</td>\n",
              "      <td>...</td>\n",
              "      <td>0.007180</td>\n",
              "      <td>0.00000</td>\n",
              "      <td>0.000000</td>\n",
              "      <td>0.000000</td>\n",
              "      <td>27.805970</td>\n",
              "      <td>0.00000</td>\n",
              "      <td>0.999602</td>\n",
              "      <td>0.000030</td>\n",
              "      <td>5</td>\n",
              "      <td>0</td>\n",
              "    </tr>\n",
              "    <tr>\n",
              "      <th>542870</th>\n",
              "      <td>0</td>\n",
              "      <td>788</td>\n",
              "      <td>0.050</td>\n",
              "      <td>11</td>\n",
              "      <td>Auturmn</td>\n",
              "      <td>588</td>\n",
              "      <td>Direct Drainage/Other</td>\n",
              "      <td>4.177504</td>\n",
              "      <td>0.000012</td>\n",
              "      <td>21.336000</td>\n",
              "      <td>...</td>\n",
              "      <td>0.007180</td>\n",
              "      <td>0.00000</td>\n",
              "      <td>0.000000</td>\n",
              "      <td>0.000000</td>\n",
              "      <td>27.805970</td>\n",
              "      <td>0.00000</td>\n",
              "      <td>0.999602</td>\n",
              "      <td>0.000030</td>\n",
              "      <td>8</td>\n",
              "      <td>0</td>\n",
              "    </tr>\n",
              "    <tr>\n",
              "      <th>542871</th>\n",
              "      <td>0</td>\n",
              "      <td>870</td>\n",
              "      <td>0.004</td>\n",
              "      <td>12</td>\n",
              "      <td>Winter</td>\n",
              "      <td>588</td>\n",
              "      <td>Direct Drainage/Other</td>\n",
              "      <td>4.177504</td>\n",
              "      <td>0.000012</td>\n",
              "      <td>21.336000</td>\n",
              "      <td>...</td>\n",
              "      <td>0.007180</td>\n",
              "      <td>0.00000</td>\n",
              "      <td>0.000000</td>\n",
              "      <td>0.000000</td>\n",
              "      <td>27.805970</td>\n",
              "      <td>0.00000</td>\n",
              "      <td>0.999602</td>\n",
              "      <td>0.000030</td>\n",
              "      <td>20</td>\n",
              "      <td>0</td>\n",
              "    </tr>\n",
              "  </tbody>\n",
              "</table>\n",
              "<p>542872 rows × 27 columns</p>\n",
              "</div>\n",
              "      <button class=\"colab-df-convert\" onclick=\"convertToInteractive('df-430709b3-671b-4ca5-a586-f068fe2a909d')\"\n",
              "              title=\"Convert this dataframe to an interactive table.\"\n",
              "              style=\"display:none;\">\n",
              "        \n",
              "  <svg xmlns=\"http://www.w3.org/2000/svg\" height=\"24px\"viewBox=\"0 0 24 24\"\n",
              "       width=\"24px\">\n",
              "    <path d=\"M0 0h24v24H0V0z\" fill=\"none\"/>\n",
              "    <path d=\"M18.56 5.44l.94 2.06.94-2.06 2.06-.94-2.06-.94-.94-2.06-.94 2.06-2.06.94zm-11 1L8.5 8.5l.94-2.06 2.06-.94-2.06-.94L8.5 2.5l-.94 2.06-2.06.94zm10 10l.94 2.06.94-2.06 2.06-.94-2.06-.94-.94-2.06-.94 2.06-2.06.94z\"/><path d=\"M17.41 7.96l-1.37-1.37c-.4-.4-.92-.59-1.43-.59-.52 0-1.04.2-1.43.59L10.3 9.45l-7.72 7.72c-.78.78-.78 2.05 0 2.83L4 21.41c.39.39.9.59 1.41.59.51 0 1.02-.2 1.41-.59l7.78-7.78 2.81-2.81c.8-.78.8-2.07 0-2.86zM5.41 20L4 18.59l7.72-7.72 1.47 1.35L5.41 20z\"/>\n",
              "  </svg>\n",
              "      </button>\n",
              "      \n",
              "  <style>\n",
              "    .colab-df-container {\n",
              "      display:flex;\n",
              "      flex-wrap:wrap;\n",
              "      gap: 12px;\n",
              "    }\n",
              "\n",
              "    .colab-df-convert {\n",
              "      background-color: #E8F0FE;\n",
              "      border: none;\n",
              "      border-radius: 50%;\n",
              "      cursor: pointer;\n",
              "      display: none;\n",
              "      fill: #1967D2;\n",
              "      height: 32px;\n",
              "      padding: 0 0 0 0;\n",
              "      width: 32px;\n",
              "    }\n",
              "\n",
              "    .colab-df-convert:hover {\n",
              "      background-color: #E2EBFA;\n",
              "      box-shadow: 0px 1px 2px rgba(60, 64, 67, 0.3), 0px 1px 3px 1px rgba(60, 64, 67, 0.15);\n",
              "      fill: #174EA6;\n",
              "    }\n",
              "\n",
              "    [theme=dark] .colab-df-convert {\n",
              "      background-color: #3B4455;\n",
              "      fill: #D2E3FC;\n",
              "    }\n",
              "\n",
              "    [theme=dark] .colab-df-convert:hover {\n",
              "      background-color: #434B5C;\n",
              "      box-shadow: 0px 1px 3px 1px rgba(0, 0, 0, 0.15);\n",
              "      filter: drop-shadow(0px 1px 2px rgba(0, 0, 0, 0.3));\n",
              "      fill: #FFFFFF;\n",
              "    }\n",
              "  </style>\n",
              "\n",
              "      <script>\n",
              "        const buttonEl =\n",
              "          document.querySelector('#df-430709b3-671b-4ca5-a586-f068fe2a909d button.colab-df-convert');\n",
              "        buttonEl.style.display =\n",
              "          google.colab.kernel.accessAllowed ? 'block' : 'none';\n",
              "\n",
              "        async function convertToInteractive(key) {\n",
              "          const element = document.querySelector('#df-430709b3-671b-4ca5-a586-f068fe2a909d');\n",
              "          const dataTable =\n",
              "            await google.colab.kernel.invokeFunction('convertToInteractive',\n",
              "                                                     [key], {});\n",
              "          if (!dataTable) return;\n",
              "\n",
              "          const docLinkHtml = 'Like what you see? Visit the ' +\n",
              "            '<a target=\"_blank\" href=https://colab.research.google.com/notebooks/data_table.ipynb>data table notebook</a>'\n",
              "            + ' to learn more about interactive tables.';\n",
              "          element.innerHTML = '';\n",
              "          dataTable['output_type'] = 'display_data';\n",
              "          await google.colab.output.renderOutput(dataTable, element);\n",
              "          const docLink = document.createElement('div');\n",
              "          docLink.innerHTML = docLinkHtml;\n",
              "          element.appendChild(docLink);\n",
              "        }\n",
              "      </script>\n",
              "    </div>\n",
              "  </div>\n",
              "  "
            ]
          },
          "metadata": {},
          "execution_count": 14
        }
      ]
    },
    {
      "cell_type": "code",
      "execution_count": 15,
      "id": "b99a1c63",
      "metadata": {
        "id": "b99a1c63"
      },
      "outputs": [],
      "source": [
        "new_df=new_df.drop_duplicates() "
      ]
    },
    {
      "cell_type": "code",
      "source": [
        "new_df['True_False_x'].value_counts() #sanity check done"
      ],
      "metadata": {
        "colab": {
          "base_uri": "https://localhost:8080/"
        },
        "id": "-noNsRGHg4gx",
        "outputId": "b27ebdd9-ee79-479d-9bb7-f557fc12ef03"
      },
      "id": "-noNsRGHg4gx",
      "execution_count": 16,
      "outputs": [
        {
          "output_type": "execute_result",
          "data": {
            "text/plain": [
              "0    524174\n",
              "1      6850\n",
              "Name: True_False_x, dtype: int64"
            ]
          },
          "metadata": {},
          "execution_count": 16
        }
      ]
    },
    {
      "cell_type": "code",
      "source": [
        "new_df.columns"
      ],
      "metadata": {
        "colab": {
          "base_uri": "https://localhost:8080/"
        },
        "id": "_vnos4m2UwR3",
        "outputId": "3baf728c-016f-427d-cd53-6109500c0c34"
      },
      "id": "_vnos4m2UwR3",
      "execution_count": 17,
      "outputs": [
        {
          "output_type": "execute_result",
          "data": {
            "text/plain": [
              "Index(['True_False_x', 'Rain_ID', 'Intensity2', 'month', 'Season', 'Sewer_ID',\n",
              "       'Drainage_type', 'df.Pop_den', 'Num_edges_pre', 'Road_width_mean',\n",
              "       'Road_Slope_mean', 'Elevation_min', 'Elevation_max', 'Elevation_mean',\n",
              "       'Cross_den', 'Cross_type', 'Net_den', 'Net_area_den', 'Alpha', 'Beta',\n",
              "       'Gama', 'ETA', 'Theta', 'Sewer_Pre_impv', 'Sewer_CB_pre', 'Hours',\n",
              "       'True_False_y'],\n",
              "      dtype='object')"
            ]
          },
          "metadata": {},
          "execution_count": 17
        }
      ]
    },
    {
      "cell_type": "code",
      "source": [
        "new_df=new_df.rename(columns={'True_False_x':'True_False','True_False_y':'Flood_report_cnt'})"
      ],
      "metadata": {
        "id": "UM3UeHM_U9c9"
      },
      "id": "UM3UeHM_U9c9",
      "execution_count": 18,
      "outputs": []
    },
    {
      "cell_type": "code",
      "source": [
        "#mapping month to rainy/dry season\n",
        "new_df['wet_dry_season']=new_df['month'].apply(lambda x: 'wet' if x in [4,5,6,7] else 'dry')\n",
        "new_df['wet_dry_season']"
      ],
      "metadata": {
        "colab": {
          "base_uri": "https://localhost:8080/"
        },
        "id": "nNi8H-DZabvf",
        "outputId": "e6b179b8-8a72-417f-e763-3bc165f74217"
      },
      "id": "nNi8H-DZabvf",
      "execution_count": 19,
      "outputs": [
        {
          "output_type": "execute_result",
          "data": {
            "text/plain": [
              "0         dry\n",
              "1         wet\n",
              "2         wet\n",
              "3         dry\n",
              "4         wet\n",
              "         ... \n",
              "542867    dry\n",
              "542868    dry\n",
              "542869    dry\n",
              "542870    dry\n",
              "542871    dry\n",
              "Name: wet_dry_season, Length: 531024, dtype: object"
            ]
          },
          "metadata": {},
          "execution_count": 19
        }
      ]
    },
    {
      "cell_type": "code",
      "execution_count": 20,
      "id": "a321a00e",
      "metadata": {
        "id": "a321a00e"
      },
      "outputs": [],
      "source": [
        "X=new_df.drop(columns=['True_False','month','Season'])\n",
        "y=new_df['True_False']"
      ]
    },
    {
      "cell_type": "code",
      "execution_count": 21,
      "id": "c1b70d67",
      "metadata": {
        "colab": {
          "base_uri": "https://localhost:8080/",
          "height": 386
        },
        "id": "c1b70d67",
        "outputId": "bc261446-658e-4cb7-f9b3-a61a01f96903"
      },
      "outputs": [
        {
          "output_type": "execute_result",
          "data": {
            "text/plain": [
              "   Rain_ID  Intensity2  Sewer_ID          Drainage_type  df.Pop_den  \\\n",
              "0      105       0.115       744  Direct Drainage/Other    0.002781   \n",
              "1      163       0.010       744  Direct Drainage/Other    0.002781   \n",
              "2      312       0.003       744  Direct Drainage/Other    0.002781   \n",
              "3      316       0.015       744  Direct Drainage/Other    0.002781   \n",
              "4      310       0.033       744  Direct Drainage/Other    0.002781   \n",
              "\n",
              "   Num_edges_pre  Road_width_mean  Road_Slope_mean  Elevation_min  \\\n",
              "0        0.00009         9.943902         0.065621      68.067146   \n",
              "1        0.00009         9.943902         0.065621      68.067146   \n",
              "2        0.00009         9.943902         0.065621      68.067146   \n",
              "3        0.00009         9.943902         0.065621      68.067146   \n",
              "4        0.00009         9.943902         0.065621      68.067146   \n",
              "\n",
              "   Elevation_max  ...    Alpha      Beta      Gama         ETA      Theta  \\\n",
              "0      75.666565  ...  0.20037  1.400493  0.466946  109.505883  157.94325   \n",
              "1      75.666565  ...  0.20037  1.400493  0.466946  109.505883  157.94325   \n",
              "2      75.666565  ...  0.20037  1.400493  0.466946  109.505883  157.94325   \n",
              "3      75.666565  ...  0.20037  1.400493  0.466946  109.505883  157.94325   \n",
              "4      75.666565  ...  0.20037  1.400493  0.466946  109.505883  157.94325   \n",
              "\n",
              "   Sewer_Pre_impv  Sewer_CB_pre  Hours  Flood_report_cnt  wet_dry_season  \n",
              "0        0.747251      0.000114     54              7087             dry  \n",
              "1        0.747251      0.000114     20              7087             wet  \n",
              "2        0.747251      0.000114     23              7087             wet  \n",
              "3        0.747251      0.000114     23              7087             dry  \n",
              "4        0.747251      0.000114     54              7087             wet  \n",
              "\n",
              "[5 rows x 25 columns]"
            ],
            "text/html": [
              "\n",
              "  <div id=\"df-23665838-791a-483b-95f1-7ac54ca4e105\">\n",
              "    <div class=\"colab-df-container\">\n",
              "      <div>\n",
              "<style scoped>\n",
              "    .dataframe tbody tr th:only-of-type {\n",
              "        vertical-align: middle;\n",
              "    }\n",
              "\n",
              "    .dataframe tbody tr th {\n",
              "        vertical-align: top;\n",
              "    }\n",
              "\n",
              "    .dataframe thead th {\n",
              "        text-align: right;\n",
              "    }\n",
              "</style>\n",
              "<table border=\"1\" class=\"dataframe\">\n",
              "  <thead>\n",
              "    <tr style=\"text-align: right;\">\n",
              "      <th></th>\n",
              "      <th>Rain_ID</th>\n",
              "      <th>Intensity2</th>\n",
              "      <th>Sewer_ID</th>\n",
              "      <th>Drainage_type</th>\n",
              "      <th>df.Pop_den</th>\n",
              "      <th>Num_edges_pre</th>\n",
              "      <th>Road_width_mean</th>\n",
              "      <th>Road_Slope_mean</th>\n",
              "      <th>Elevation_min</th>\n",
              "      <th>Elevation_max</th>\n",
              "      <th>...</th>\n",
              "      <th>Alpha</th>\n",
              "      <th>Beta</th>\n",
              "      <th>Gama</th>\n",
              "      <th>ETA</th>\n",
              "      <th>Theta</th>\n",
              "      <th>Sewer_Pre_impv</th>\n",
              "      <th>Sewer_CB_pre</th>\n",
              "      <th>Hours</th>\n",
              "      <th>Flood_report_cnt</th>\n",
              "      <th>wet_dry_season</th>\n",
              "    </tr>\n",
              "  </thead>\n",
              "  <tbody>\n",
              "    <tr>\n",
              "      <th>0</th>\n",
              "      <td>105</td>\n",
              "      <td>0.115</td>\n",
              "      <td>744</td>\n",
              "      <td>Direct Drainage/Other</td>\n",
              "      <td>0.002781</td>\n",
              "      <td>0.00009</td>\n",
              "      <td>9.943902</td>\n",
              "      <td>0.065621</td>\n",
              "      <td>68.067146</td>\n",
              "      <td>75.666565</td>\n",
              "      <td>...</td>\n",
              "      <td>0.20037</td>\n",
              "      <td>1.400493</td>\n",
              "      <td>0.466946</td>\n",
              "      <td>109.505883</td>\n",
              "      <td>157.94325</td>\n",
              "      <td>0.747251</td>\n",
              "      <td>0.000114</td>\n",
              "      <td>54</td>\n",
              "      <td>7087</td>\n",
              "      <td>dry</td>\n",
              "    </tr>\n",
              "    <tr>\n",
              "      <th>1</th>\n",
              "      <td>163</td>\n",
              "      <td>0.010</td>\n",
              "      <td>744</td>\n",
              "      <td>Direct Drainage/Other</td>\n",
              "      <td>0.002781</td>\n",
              "      <td>0.00009</td>\n",
              "      <td>9.943902</td>\n",
              "      <td>0.065621</td>\n",
              "      <td>68.067146</td>\n",
              "      <td>75.666565</td>\n",
              "      <td>...</td>\n",
              "      <td>0.20037</td>\n",
              "      <td>1.400493</td>\n",
              "      <td>0.466946</td>\n",
              "      <td>109.505883</td>\n",
              "      <td>157.94325</td>\n",
              "      <td>0.747251</td>\n",
              "      <td>0.000114</td>\n",
              "      <td>20</td>\n",
              "      <td>7087</td>\n",
              "      <td>wet</td>\n",
              "    </tr>\n",
              "    <tr>\n",
              "      <th>2</th>\n",
              "      <td>312</td>\n",
              "      <td>0.003</td>\n",
              "      <td>744</td>\n",
              "      <td>Direct Drainage/Other</td>\n",
              "      <td>0.002781</td>\n",
              "      <td>0.00009</td>\n",
              "      <td>9.943902</td>\n",
              "      <td>0.065621</td>\n",
              "      <td>68.067146</td>\n",
              "      <td>75.666565</td>\n",
              "      <td>...</td>\n",
              "      <td>0.20037</td>\n",
              "      <td>1.400493</td>\n",
              "      <td>0.466946</td>\n",
              "      <td>109.505883</td>\n",
              "      <td>157.94325</td>\n",
              "      <td>0.747251</td>\n",
              "      <td>0.000114</td>\n",
              "      <td>23</td>\n",
              "      <td>7087</td>\n",
              "      <td>wet</td>\n",
              "    </tr>\n",
              "    <tr>\n",
              "      <th>3</th>\n",
              "      <td>316</td>\n",
              "      <td>0.015</td>\n",
              "      <td>744</td>\n",
              "      <td>Direct Drainage/Other</td>\n",
              "      <td>0.002781</td>\n",
              "      <td>0.00009</td>\n",
              "      <td>9.943902</td>\n",
              "      <td>0.065621</td>\n",
              "      <td>68.067146</td>\n",
              "      <td>75.666565</td>\n",
              "      <td>...</td>\n",
              "      <td>0.20037</td>\n",
              "      <td>1.400493</td>\n",
              "      <td>0.466946</td>\n",
              "      <td>109.505883</td>\n",
              "      <td>157.94325</td>\n",
              "      <td>0.747251</td>\n",
              "      <td>0.000114</td>\n",
              "      <td>23</td>\n",
              "      <td>7087</td>\n",
              "      <td>dry</td>\n",
              "    </tr>\n",
              "    <tr>\n",
              "      <th>4</th>\n",
              "      <td>310</td>\n",
              "      <td>0.033</td>\n",
              "      <td>744</td>\n",
              "      <td>Direct Drainage/Other</td>\n",
              "      <td>0.002781</td>\n",
              "      <td>0.00009</td>\n",
              "      <td>9.943902</td>\n",
              "      <td>0.065621</td>\n",
              "      <td>68.067146</td>\n",
              "      <td>75.666565</td>\n",
              "      <td>...</td>\n",
              "      <td>0.20037</td>\n",
              "      <td>1.400493</td>\n",
              "      <td>0.466946</td>\n",
              "      <td>109.505883</td>\n",
              "      <td>157.94325</td>\n",
              "      <td>0.747251</td>\n",
              "      <td>0.000114</td>\n",
              "      <td>54</td>\n",
              "      <td>7087</td>\n",
              "      <td>wet</td>\n",
              "    </tr>\n",
              "  </tbody>\n",
              "</table>\n",
              "<p>5 rows × 25 columns</p>\n",
              "</div>\n",
              "      <button class=\"colab-df-convert\" onclick=\"convertToInteractive('df-23665838-791a-483b-95f1-7ac54ca4e105')\"\n",
              "              title=\"Convert this dataframe to an interactive table.\"\n",
              "              style=\"display:none;\">\n",
              "        \n",
              "  <svg xmlns=\"http://www.w3.org/2000/svg\" height=\"24px\"viewBox=\"0 0 24 24\"\n",
              "       width=\"24px\">\n",
              "    <path d=\"M0 0h24v24H0V0z\" fill=\"none\"/>\n",
              "    <path d=\"M18.56 5.44l.94 2.06.94-2.06 2.06-.94-2.06-.94-.94-2.06-.94 2.06-2.06.94zm-11 1L8.5 8.5l.94-2.06 2.06-.94-2.06-.94L8.5 2.5l-.94 2.06-2.06.94zm10 10l.94 2.06.94-2.06 2.06-.94-2.06-.94-.94-2.06-.94 2.06-2.06.94z\"/><path d=\"M17.41 7.96l-1.37-1.37c-.4-.4-.92-.59-1.43-.59-.52 0-1.04.2-1.43.59L10.3 9.45l-7.72 7.72c-.78.78-.78 2.05 0 2.83L4 21.41c.39.39.9.59 1.41.59.51 0 1.02-.2 1.41-.59l7.78-7.78 2.81-2.81c.8-.78.8-2.07 0-2.86zM5.41 20L4 18.59l7.72-7.72 1.47 1.35L5.41 20z\"/>\n",
              "  </svg>\n",
              "      </button>\n",
              "      \n",
              "  <style>\n",
              "    .colab-df-container {\n",
              "      display:flex;\n",
              "      flex-wrap:wrap;\n",
              "      gap: 12px;\n",
              "    }\n",
              "\n",
              "    .colab-df-convert {\n",
              "      background-color: #E8F0FE;\n",
              "      border: none;\n",
              "      border-radius: 50%;\n",
              "      cursor: pointer;\n",
              "      display: none;\n",
              "      fill: #1967D2;\n",
              "      height: 32px;\n",
              "      padding: 0 0 0 0;\n",
              "      width: 32px;\n",
              "    }\n",
              "\n",
              "    .colab-df-convert:hover {\n",
              "      background-color: #E2EBFA;\n",
              "      box-shadow: 0px 1px 2px rgba(60, 64, 67, 0.3), 0px 1px 3px 1px rgba(60, 64, 67, 0.15);\n",
              "      fill: #174EA6;\n",
              "    }\n",
              "\n",
              "    [theme=dark] .colab-df-convert {\n",
              "      background-color: #3B4455;\n",
              "      fill: #D2E3FC;\n",
              "    }\n",
              "\n",
              "    [theme=dark] .colab-df-convert:hover {\n",
              "      background-color: #434B5C;\n",
              "      box-shadow: 0px 1px 3px 1px rgba(0, 0, 0, 0.15);\n",
              "      filter: drop-shadow(0px 1px 2px rgba(0, 0, 0, 0.3));\n",
              "      fill: #FFFFFF;\n",
              "    }\n",
              "  </style>\n",
              "\n",
              "      <script>\n",
              "        const buttonEl =\n",
              "          document.querySelector('#df-23665838-791a-483b-95f1-7ac54ca4e105 button.colab-df-convert');\n",
              "        buttonEl.style.display =\n",
              "          google.colab.kernel.accessAllowed ? 'block' : 'none';\n",
              "\n",
              "        async function convertToInteractive(key) {\n",
              "          const element = document.querySelector('#df-23665838-791a-483b-95f1-7ac54ca4e105');\n",
              "          const dataTable =\n",
              "            await google.colab.kernel.invokeFunction('convertToInteractive',\n",
              "                                                     [key], {});\n",
              "          if (!dataTable) return;\n",
              "\n",
              "          const docLinkHtml = 'Like what you see? Visit the ' +\n",
              "            '<a target=\"_blank\" href=https://colab.research.google.com/notebooks/data_table.ipynb>data table notebook</a>'\n",
              "            + ' to learn more about interactive tables.';\n",
              "          element.innerHTML = '';\n",
              "          dataTable['output_type'] = 'display_data';\n",
              "          await google.colab.output.renderOutput(dataTable, element);\n",
              "          const docLink = document.createElement('div');\n",
              "          docLink.innerHTML = docLinkHtml;\n",
              "          element.appendChild(docLink);\n",
              "        }\n",
              "      </script>\n",
              "    </div>\n",
              "  </div>\n",
              "  "
            ]
          },
          "metadata": {},
          "execution_count": 21
        }
      ],
      "source": [
        "X.head()"
      ]
    },
    {
      "cell_type": "code",
      "execution_count": 22,
      "id": "991858b9",
      "metadata": {
        "colab": {
          "base_uri": "https://localhost:8080/"
        },
        "id": "991858b9",
        "outputId": "d4c61aba-c288-49f3-a237-43056ab7f482"
      },
      "outputs": [
        {
          "output_type": "execute_result",
          "data": {
            "text/plain": [
              "Rain_ID             0\n",
              "Intensity2          0\n",
              "Sewer_ID            0\n",
              "Drainage_type       0\n",
              "df.Pop_den          0\n",
              "Num_edges_pre       0\n",
              "Road_width_mean     0\n",
              "Road_Slope_mean     0\n",
              "Elevation_min       0\n",
              "Elevation_max       0\n",
              "Elevation_mean      0\n",
              "Cross_den           0\n",
              "Cross_type          0\n",
              "Net_den             0\n",
              "Net_area_den        0\n",
              "Alpha               0\n",
              "Beta                0\n",
              "Gama                0\n",
              "ETA                 0\n",
              "Theta               0\n",
              "Sewer_Pre_impv      0\n",
              "Sewer_CB_pre        0\n",
              "Hours               0\n",
              "Flood_report_cnt    0\n",
              "wet_dry_season      0\n",
              "dtype: int64"
            ]
          },
          "metadata": {},
          "execution_count": 22
        }
      ],
      "source": [
        "X.isnull().sum()"
      ]
    },
    {
      "cell_type": "markdown",
      "id": "751346da",
      "metadata": {
        "id": "751346da"
      },
      "source": [
        "## Baseline(just XGboost etc without any manipulation)"
      ]
    },
    {
      "cell_type": "code",
      "execution_count": 23,
      "id": "7367f172",
      "metadata": {
        "id": "7367f172"
      },
      "outputs": [],
      "source": [
        "from xgboost import XGBClassifier\n",
        "from sklearn.model_selection import train_test_split\n",
        "from sklearn.metrics import f1_score, precision_score, recall_score"
      ]
    },
    {
      "cell_type": "code",
      "execution_count": 24,
      "id": "739be1ce",
      "metadata": {
        "colab": {
          "base_uri": "https://localhost:8080/"
        },
        "id": "739be1ce",
        "outputId": "f2ae7ff5-6700-456c-927a-c94aa2410658"
      },
      "outputs": [
        {
          "output_type": "execute_result",
          "data": {
            "text/plain": [
              "Rain_ID               int64\n",
              "Intensity2          float64\n",
              "Sewer_ID              int64\n",
              "Drainage_type        object\n",
              "df.Pop_den          float64\n",
              "Num_edges_pre       float64\n",
              "Road_width_mean     float64\n",
              "Road_Slope_mean     float64\n",
              "Elevation_min       float64\n",
              "Elevation_max       float64\n",
              "Elevation_mean      float64\n",
              "Cross_den           float64\n",
              "Cross_type          float64\n",
              "Net_den             float64\n",
              "Net_area_den        float64\n",
              "Alpha               float64\n",
              "Beta                float64\n",
              "Gama                float64\n",
              "ETA                 float64\n",
              "Theta               float64\n",
              "Sewer_Pre_impv      float64\n",
              "Sewer_CB_pre        float64\n",
              "Hours                 int64\n",
              "Flood_report_cnt      int64\n",
              "wet_dry_season       object\n",
              "dtype: object"
            ]
          },
          "metadata": {},
          "execution_count": 24
        }
      ],
      "source": [
        "X.dtypes"
      ]
    },
    {
      "cell_type": "code",
      "execution_count": 25,
      "id": "1ca83276",
      "metadata": {
        "id": "1ca83276"
      },
      "outputs": [],
      "source": [
        "# X['Season'].value_counts()"
      ]
    },
    {
      "cell_type": "code",
      "execution_count": 26,
      "id": "a1f52761",
      "metadata": {
        "colab": {
          "base_uri": "https://localhost:8080/"
        },
        "id": "a1f52761",
        "outputId": "bead7aad-6c74-4b6c-94ab-0cf03891df01"
      },
      "outputs": [
        {
          "output_type": "execute_result",
          "data": {
            "text/plain": [
              "Combined                 253400\n",
              "Separate                 154212\n",
              "Direct Drainage/Other    123412\n",
              "Name: Drainage_type, dtype: int64"
            ]
          },
          "metadata": {},
          "execution_count": 26
        }
      ],
      "source": [
        "X['Drainage_type'].value_counts()"
      ]
    },
    {
      "cell_type": "code",
      "execution_count": 27,
      "id": "f1177894",
      "metadata": {
        "colab": {
          "base_uri": "https://localhost:8080/",
          "height": 380
        },
        "id": "f1177894",
        "outputId": "3a4dea7c-d5a3-497a-a669-74e7e9b56d41"
      },
      "outputs": [
        {
          "output_type": "execute_result",
          "data": {
            "text/plain": [
              "   Rain_ID  Intensity2  Sewer_ID  df.Pop_den  Num_edges_pre  Road_width_mean  \\\n",
              "0      105       0.115       744    0.002781        0.00009         9.943902   \n",
              "1      163       0.010       744    0.002781        0.00009         9.943902   \n",
              "2      312       0.003       744    0.002781        0.00009         9.943902   \n",
              "3      316       0.015       744    0.002781        0.00009         9.943902   \n",
              "4      310       0.033       744    0.002781        0.00009         9.943902   \n",
              "5      311       0.063       744    0.002781        0.00009         9.943902   \n",
              "6      375       0.040       744    0.002781        0.00009         9.943902   \n",
              "\n",
              "   Road_Slope_mean  Elevation_min  Elevation_max  Elevation_mean  ...  \\\n",
              "0         0.065621      68.067146      75.666565       71.883707  ...   \n",
              "1         0.065621      68.067146      75.666565       71.883707  ...   \n",
              "2         0.065621      68.067146      75.666565       71.883707  ...   \n",
              "3         0.065621      68.067146      75.666565       71.883707  ...   \n",
              "4         0.065621      68.067146      75.666565       71.883707  ...   \n",
              "5         0.065621      68.067146      75.666565       71.883707  ...   \n",
              "6         0.065621      68.067146      75.666565       71.883707  ...   \n",
              "\n",
              "       Theta  Sewer_Pre_impv  Sewer_CB_pre  Hours  Flood_report_cnt  \\\n",
              "0  157.94325        0.747251      0.000114     54              7087   \n",
              "1  157.94325        0.747251      0.000114     20              7087   \n",
              "2  157.94325        0.747251      0.000114     23              7087   \n",
              "3  157.94325        0.747251      0.000114     23              7087   \n",
              "4  157.94325        0.747251      0.000114     54              7087   \n",
              "5  157.94325        0.747251      0.000114      3              7087   \n",
              "6  157.94325        0.747251      0.000114     61              7087   \n",
              "\n",
              "   Drainage_type_Combined  Drainage_type_Direct Drainage/Other  \\\n",
              "0                       0                                    1   \n",
              "1                       0                                    1   \n",
              "2                       0                                    1   \n",
              "3                       0                                    1   \n",
              "4                       0                                    1   \n",
              "5                       0                                    1   \n",
              "6                       0                                    1   \n",
              "\n",
              "   Drainage_type_Separate  wet_dry_season_dry  wet_dry_season_wet  \n",
              "0                       0                   1                   0  \n",
              "1                       0                   0                   1  \n",
              "2                       0                   0                   1  \n",
              "3                       0                   1                   0  \n",
              "4                       0                   0                   1  \n",
              "5                       0                   0                   1  \n",
              "6                       0                   0                   1  \n",
              "\n",
              "[7 rows x 28 columns]"
            ],
            "text/html": [
              "\n",
              "  <div id=\"df-fe7a520a-5d27-4fe7-aafb-f0511e1a7254\">\n",
              "    <div class=\"colab-df-container\">\n",
              "      <div>\n",
              "<style scoped>\n",
              "    .dataframe tbody tr th:only-of-type {\n",
              "        vertical-align: middle;\n",
              "    }\n",
              "\n",
              "    .dataframe tbody tr th {\n",
              "        vertical-align: top;\n",
              "    }\n",
              "\n",
              "    .dataframe thead th {\n",
              "        text-align: right;\n",
              "    }\n",
              "</style>\n",
              "<table border=\"1\" class=\"dataframe\">\n",
              "  <thead>\n",
              "    <tr style=\"text-align: right;\">\n",
              "      <th></th>\n",
              "      <th>Rain_ID</th>\n",
              "      <th>Intensity2</th>\n",
              "      <th>Sewer_ID</th>\n",
              "      <th>df.Pop_den</th>\n",
              "      <th>Num_edges_pre</th>\n",
              "      <th>Road_width_mean</th>\n",
              "      <th>Road_Slope_mean</th>\n",
              "      <th>Elevation_min</th>\n",
              "      <th>Elevation_max</th>\n",
              "      <th>Elevation_mean</th>\n",
              "      <th>...</th>\n",
              "      <th>Theta</th>\n",
              "      <th>Sewer_Pre_impv</th>\n",
              "      <th>Sewer_CB_pre</th>\n",
              "      <th>Hours</th>\n",
              "      <th>Flood_report_cnt</th>\n",
              "      <th>Drainage_type_Combined</th>\n",
              "      <th>Drainage_type_Direct Drainage/Other</th>\n",
              "      <th>Drainage_type_Separate</th>\n",
              "      <th>wet_dry_season_dry</th>\n",
              "      <th>wet_dry_season_wet</th>\n",
              "    </tr>\n",
              "  </thead>\n",
              "  <tbody>\n",
              "    <tr>\n",
              "      <th>0</th>\n",
              "      <td>105</td>\n",
              "      <td>0.115</td>\n",
              "      <td>744</td>\n",
              "      <td>0.002781</td>\n",
              "      <td>0.00009</td>\n",
              "      <td>9.943902</td>\n",
              "      <td>0.065621</td>\n",
              "      <td>68.067146</td>\n",
              "      <td>75.666565</td>\n",
              "      <td>71.883707</td>\n",
              "      <td>...</td>\n",
              "      <td>157.94325</td>\n",
              "      <td>0.747251</td>\n",
              "      <td>0.000114</td>\n",
              "      <td>54</td>\n",
              "      <td>7087</td>\n",
              "      <td>0</td>\n",
              "      <td>1</td>\n",
              "      <td>0</td>\n",
              "      <td>1</td>\n",
              "      <td>0</td>\n",
              "    </tr>\n",
              "    <tr>\n",
              "      <th>1</th>\n",
              "      <td>163</td>\n",
              "      <td>0.010</td>\n",
              "      <td>744</td>\n",
              "      <td>0.002781</td>\n",
              "      <td>0.00009</td>\n",
              "      <td>9.943902</td>\n",
              "      <td>0.065621</td>\n",
              "      <td>68.067146</td>\n",
              "      <td>75.666565</td>\n",
              "      <td>71.883707</td>\n",
              "      <td>...</td>\n",
              "      <td>157.94325</td>\n",
              "      <td>0.747251</td>\n",
              "      <td>0.000114</td>\n",
              "      <td>20</td>\n",
              "      <td>7087</td>\n",
              "      <td>0</td>\n",
              "      <td>1</td>\n",
              "      <td>0</td>\n",
              "      <td>0</td>\n",
              "      <td>1</td>\n",
              "    </tr>\n",
              "    <tr>\n",
              "      <th>2</th>\n",
              "      <td>312</td>\n",
              "      <td>0.003</td>\n",
              "      <td>744</td>\n",
              "      <td>0.002781</td>\n",
              "      <td>0.00009</td>\n",
              "      <td>9.943902</td>\n",
              "      <td>0.065621</td>\n",
              "      <td>68.067146</td>\n",
              "      <td>75.666565</td>\n",
              "      <td>71.883707</td>\n",
              "      <td>...</td>\n",
              "      <td>157.94325</td>\n",
              "      <td>0.747251</td>\n",
              "      <td>0.000114</td>\n",
              "      <td>23</td>\n",
              "      <td>7087</td>\n",
              "      <td>0</td>\n",
              "      <td>1</td>\n",
              "      <td>0</td>\n",
              "      <td>0</td>\n",
              "      <td>1</td>\n",
              "    </tr>\n",
              "    <tr>\n",
              "      <th>3</th>\n",
              "      <td>316</td>\n",
              "      <td>0.015</td>\n",
              "      <td>744</td>\n",
              "      <td>0.002781</td>\n",
              "      <td>0.00009</td>\n",
              "      <td>9.943902</td>\n",
              "      <td>0.065621</td>\n",
              "      <td>68.067146</td>\n",
              "      <td>75.666565</td>\n",
              "      <td>71.883707</td>\n",
              "      <td>...</td>\n",
              "      <td>157.94325</td>\n",
              "      <td>0.747251</td>\n",
              "      <td>0.000114</td>\n",
              "      <td>23</td>\n",
              "      <td>7087</td>\n",
              "      <td>0</td>\n",
              "      <td>1</td>\n",
              "      <td>0</td>\n",
              "      <td>1</td>\n",
              "      <td>0</td>\n",
              "    </tr>\n",
              "    <tr>\n",
              "      <th>4</th>\n",
              "      <td>310</td>\n",
              "      <td>0.033</td>\n",
              "      <td>744</td>\n",
              "      <td>0.002781</td>\n",
              "      <td>0.00009</td>\n",
              "      <td>9.943902</td>\n",
              "      <td>0.065621</td>\n",
              "      <td>68.067146</td>\n",
              "      <td>75.666565</td>\n",
              "      <td>71.883707</td>\n",
              "      <td>...</td>\n",
              "      <td>157.94325</td>\n",
              "      <td>0.747251</td>\n",
              "      <td>0.000114</td>\n",
              "      <td>54</td>\n",
              "      <td>7087</td>\n",
              "      <td>0</td>\n",
              "      <td>1</td>\n",
              "      <td>0</td>\n",
              "      <td>0</td>\n",
              "      <td>1</td>\n",
              "    </tr>\n",
              "    <tr>\n",
              "      <th>5</th>\n",
              "      <td>311</td>\n",
              "      <td>0.063</td>\n",
              "      <td>744</td>\n",
              "      <td>0.002781</td>\n",
              "      <td>0.00009</td>\n",
              "      <td>9.943902</td>\n",
              "      <td>0.065621</td>\n",
              "      <td>68.067146</td>\n",
              "      <td>75.666565</td>\n",
              "      <td>71.883707</td>\n",
              "      <td>...</td>\n",
              "      <td>157.94325</td>\n",
              "      <td>0.747251</td>\n",
              "      <td>0.000114</td>\n",
              "      <td>3</td>\n",
              "      <td>7087</td>\n",
              "      <td>0</td>\n",
              "      <td>1</td>\n",
              "      <td>0</td>\n",
              "      <td>0</td>\n",
              "      <td>1</td>\n",
              "    </tr>\n",
              "    <tr>\n",
              "      <th>6</th>\n",
              "      <td>375</td>\n",
              "      <td>0.040</td>\n",
              "      <td>744</td>\n",
              "      <td>0.002781</td>\n",
              "      <td>0.00009</td>\n",
              "      <td>9.943902</td>\n",
              "      <td>0.065621</td>\n",
              "      <td>68.067146</td>\n",
              "      <td>75.666565</td>\n",
              "      <td>71.883707</td>\n",
              "      <td>...</td>\n",
              "      <td>157.94325</td>\n",
              "      <td>0.747251</td>\n",
              "      <td>0.000114</td>\n",
              "      <td>61</td>\n",
              "      <td>7087</td>\n",
              "      <td>0</td>\n",
              "      <td>1</td>\n",
              "      <td>0</td>\n",
              "      <td>0</td>\n",
              "      <td>1</td>\n",
              "    </tr>\n",
              "  </tbody>\n",
              "</table>\n",
              "<p>7 rows × 28 columns</p>\n",
              "</div>\n",
              "      <button class=\"colab-df-convert\" onclick=\"convertToInteractive('df-fe7a520a-5d27-4fe7-aafb-f0511e1a7254')\"\n",
              "              title=\"Convert this dataframe to an interactive table.\"\n",
              "              style=\"display:none;\">\n",
              "        \n",
              "  <svg xmlns=\"http://www.w3.org/2000/svg\" height=\"24px\"viewBox=\"0 0 24 24\"\n",
              "       width=\"24px\">\n",
              "    <path d=\"M0 0h24v24H0V0z\" fill=\"none\"/>\n",
              "    <path d=\"M18.56 5.44l.94 2.06.94-2.06 2.06-.94-2.06-.94-.94-2.06-.94 2.06-2.06.94zm-11 1L8.5 8.5l.94-2.06 2.06-.94-2.06-.94L8.5 2.5l-.94 2.06-2.06.94zm10 10l.94 2.06.94-2.06 2.06-.94-2.06-.94-.94-2.06-.94 2.06-2.06.94z\"/><path d=\"M17.41 7.96l-1.37-1.37c-.4-.4-.92-.59-1.43-.59-.52 0-1.04.2-1.43.59L10.3 9.45l-7.72 7.72c-.78.78-.78 2.05 0 2.83L4 21.41c.39.39.9.59 1.41.59.51 0 1.02-.2 1.41-.59l7.78-7.78 2.81-2.81c.8-.78.8-2.07 0-2.86zM5.41 20L4 18.59l7.72-7.72 1.47 1.35L5.41 20z\"/>\n",
              "  </svg>\n",
              "      </button>\n",
              "      \n",
              "  <style>\n",
              "    .colab-df-container {\n",
              "      display:flex;\n",
              "      flex-wrap:wrap;\n",
              "      gap: 12px;\n",
              "    }\n",
              "\n",
              "    .colab-df-convert {\n",
              "      background-color: #E8F0FE;\n",
              "      border: none;\n",
              "      border-radius: 50%;\n",
              "      cursor: pointer;\n",
              "      display: none;\n",
              "      fill: #1967D2;\n",
              "      height: 32px;\n",
              "      padding: 0 0 0 0;\n",
              "      width: 32px;\n",
              "    }\n",
              "\n",
              "    .colab-df-convert:hover {\n",
              "      background-color: #E2EBFA;\n",
              "      box-shadow: 0px 1px 2px rgba(60, 64, 67, 0.3), 0px 1px 3px 1px rgba(60, 64, 67, 0.15);\n",
              "      fill: #174EA6;\n",
              "    }\n",
              "\n",
              "    [theme=dark] .colab-df-convert {\n",
              "      background-color: #3B4455;\n",
              "      fill: #D2E3FC;\n",
              "    }\n",
              "\n",
              "    [theme=dark] .colab-df-convert:hover {\n",
              "      background-color: #434B5C;\n",
              "      box-shadow: 0px 1px 3px 1px rgba(0, 0, 0, 0.15);\n",
              "      filter: drop-shadow(0px 1px 2px rgba(0, 0, 0, 0.3));\n",
              "      fill: #FFFFFF;\n",
              "    }\n",
              "  </style>\n",
              "\n",
              "      <script>\n",
              "        const buttonEl =\n",
              "          document.querySelector('#df-fe7a520a-5d27-4fe7-aafb-f0511e1a7254 button.colab-df-convert');\n",
              "        buttonEl.style.display =\n",
              "          google.colab.kernel.accessAllowed ? 'block' : 'none';\n",
              "\n",
              "        async function convertToInteractive(key) {\n",
              "          const element = document.querySelector('#df-fe7a520a-5d27-4fe7-aafb-f0511e1a7254');\n",
              "          const dataTable =\n",
              "            await google.colab.kernel.invokeFunction('convertToInteractive',\n",
              "                                                     [key], {});\n",
              "          if (!dataTable) return;\n",
              "\n",
              "          const docLinkHtml = 'Like what you see? Visit the ' +\n",
              "            '<a target=\"_blank\" href=https://colab.research.google.com/notebooks/data_table.ipynb>data table notebook</a>'\n",
              "            + ' to learn more about interactive tables.';\n",
              "          element.innerHTML = '';\n",
              "          dataTable['output_type'] = 'display_data';\n",
              "          await google.colab.output.renderOutput(dataTable, element);\n",
              "          const docLink = document.createElement('div');\n",
              "          docLink.innerHTML = docLinkHtml;\n",
              "          element.appendChild(docLink);\n",
              "        }\n",
              "      </script>\n",
              "    </div>\n",
              "  </div>\n",
              "  "
            ]
          },
          "metadata": {},
          "execution_count": 27
        }
      ],
      "source": [
        "#one hot encoding\n",
        "X_enc=pd.get_dummies(X, columns = ['Drainage_type', 'wet_dry_season'])\n",
        "X_enc.head(7)"
      ]
    },
    {
      "cell_type": "code",
      "execution_count": 28,
      "id": "33cbb813",
      "metadata": {
        "id": "33cbb813"
      },
      "outputs": [],
      "source": [
        "X_train, X_test, y_train, y_test = train_test_split(X_enc, y, test_size=0.2, random_state=42, stratify=y)"
      ]
    },
    {
      "cell_type": "code",
      "execution_count": 29,
      "id": "9dc41433",
      "metadata": {
        "colab": {
          "base_uri": "https://localhost:8080/"
        },
        "id": "9dc41433",
        "outputId": "d9c44205-2a0b-4eb7-e71a-2970d24132af"
      },
      "outputs": [
        {
          "output_type": "execute_result",
          "data": {
            "text/plain": [
              "XGBClassifier()"
            ]
          },
          "metadata": {},
          "execution_count": 29
        }
      ],
      "source": [
        "xgb=XGBClassifier()\n",
        "xgb.fit(X_train,y_train)"
      ]
    },
    {
      "cell_type": "code",
      "execution_count": 30,
      "id": "5777d8da",
      "metadata": {
        "colab": {
          "base_uri": "https://localhost:8080/"
        },
        "id": "5777d8da",
        "outputId": "72c6d93e-2df2-4b60-b39e-3fb451546adf"
      },
      "outputs": [
        {
          "output_type": "execute_result",
          "data": {
            "text/plain": [
              "0.9893884218926178"
            ]
          },
          "metadata": {},
          "execution_count": 30
        }
      ],
      "source": [
        "xgb.score(X_train,y_train)"
      ]
    },
    {
      "cell_type": "code",
      "execution_count": 31,
      "id": "e1171f92",
      "metadata": {
        "colab": {
          "base_uri": "https://localhost:8080/"
        },
        "id": "e1171f92",
        "outputId": "b13ecff8-8d9b-44dd-9519-44cf106b21d6"
      },
      "outputs": [
        {
          "output_type": "execute_result",
          "data": {
            "text/plain": [
              "0.9895296831599265"
            ]
          },
          "metadata": {},
          "execution_count": 31
        }
      ],
      "source": [
        "xgb.score(X_test,y_test) #guess it it predicting everything to the majority class"
      ]
    },
    {
      "cell_type": "code",
      "execution_count": 32,
      "id": "c60c30be",
      "metadata": {
        "id": "c60c30be"
      },
      "outputs": [],
      "source": [
        "y_pred=xgb.predict(X_test)"
      ]
    },
    {
      "cell_type": "code",
      "execution_count": 33,
      "id": "6d0da9d9",
      "metadata": {
        "colab": {
          "base_uri": "https://localhost:8080/"
        },
        "id": "6d0da9d9",
        "outputId": "7a8b9118-efdd-4723-bad7-550a1a2a005a"
      },
      "outputs": [
        {
          "output_type": "stream",
          "name": "stdout",
          "text": [
            "0.34818288393903873\n",
            "0.8839285714285714\n",
            "0.2167883211678832\n"
          ]
        }
      ],
      "source": [
        "print(f1_score(y_test, y_pred, average='binary'))\n",
        "print(precision_score(y_test,y_pred))\n",
        "print(recall_score(y_test,y_pred)) #recall is bad(somewhat expected)"
      ]
    },
    {
      "cell_type": "markdown",
      "id": "89f12ad4",
      "metadata": {
        "id": "89f12ad4"
      },
      "source": [
        "## Oversampling(handling imbalanced problem)"
      ]
    },
    {
      "cell_type": "code",
      "source": [
        "from imblearn.pipeline import Pipeline\n",
        "from imblearn.over_sampling import SMOTE\n",
        "from collections import Counter\n",
        "from xgboost import XGBClassifier\n",
        "from sklearn.model_selection import train_test_split\n",
        "from sklearn.metrics import f1_score, precision_score, recall_score\n",
        "\n",
        "#official doc- https://imbalanced-learn.org/stable/references/generated/imblearn.over_sampling.SMOTE.html"
      ],
      "metadata": {
        "id": "sxQh2ReeOQRW"
      },
      "id": "sxQh2ReeOQRW",
      "execution_count": 34,
      "outputs": []
    },
    {
      "cell_type": "code",
      "source": [
        "X.dtypes"
      ],
      "metadata": {
        "id": "jKDeL-ocdvWW",
        "colab": {
          "base_uri": "https://localhost:8080/"
        },
        "outputId": "5429e608-ff89-4881-f3a2-69eaf17bedb7"
      },
      "id": "jKDeL-ocdvWW",
      "execution_count": 35,
      "outputs": [
        {
          "output_type": "execute_result",
          "data": {
            "text/plain": [
              "Rain_ID               int64\n",
              "Intensity2          float64\n",
              "Sewer_ID              int64\n",
              "Drainage_type        object\n",
              "df.Pop_den          float64\n",
              "Num_edges_pre       float64\n",
              "Road_width_mean     float64\n",
              "Road_Slope_mean     float64\n",
              "Elevation_min       float64\n",
              "Elevation_max       float64\n",
              "Elevation_mean      float64\n",
              "Cross_den           float64\n",
              "Cross_type          float64\n",
              "Net_den             float64\n",
              "Net_area_den        float64\n",
              "Alpha               float64\n",
              "Beta                float64\n",
              "Gama                float64\n",
              "ETA                 float64\n",
              "Theta               float64\n",
              "Sewer_Pre_impv      float64\n",
              "Sewer_CB_pre        float64\n",
              "Hours                 int64\n",
              "Flood_report_cnt      int64\n",
              "wet_dry_season       object\n",
              "dtype: object"
            ]
          },
          "metadata": {},
          "execution_count": 35
        }
      ]
    },
    {
      "cell_type": "code",
      "source": [
        "X_enc=pd.get_dummies(X, columns = ['wet_dry_season', 'Drainage_type'])\n",
        "X_train, X_test, y_train, y_test = train_test_split(X_enc, y, test_size=0.2, random_state=42, stratify=y)"
      ],
      "metadata": {
        "id": "nSDmVHENdjOw"
      },
      "id": "nSDmVHENdjOw",
      "execution_count": 36,
      "outputs": []
    },
    {
      "cell_type": "code",
      "execution_count": 37,
      "id": "60c5dd09",
      "metadata": {
        "id": "60c5dd09",
        "colab": {
          "base_uri": "https://localhost:8080/"
        },
        "outputId": "ebc3d4be-bdc7-4454-a547-8a8e53b31e5f"
      },
      "outputs": [
        {
          "output_type": "execute_result",
          "data": {
            "text/plain": [
              "Counter({0: 419339, 1: 419339})"
            ]
          },
          "metadata": {},
          "execution_count": 37
        }
      ],
      "source": [
        "sm = SMOTE(random_state=0, n_jobs=8, sampling_strategy='minority')\n",
        "X_train_resampled, y_train_resampled = sm.fit_resample(X_train, y_train)\n",
        "Counter(y_train_resampled)"
      ]
    },
    {
      "cell_type": "code",
      "source": [
        "xgb_over=XGBClassifier()\n",
        "xgb_over.fit(X_train_resampled, y_train_resampled)"
      ],
      "metadata": {
        "id": "j2A5WyqlQFro",
        "colab": {
          "base_uri": "https://localhost:8080/"
        },
        "outputId": "4a6da9fd-bf27-4c5a-d1a6-fbfdef6218df"
      },
      "id": "j2A5WyqlQFro",
      "execution_count": 38,
      "outputs": [
        {
          "output_type": "execute_result",
          "data": {
            "text/plain": [
              "XGBClassifier()"
            ]
          },
          "metadata": {},
          "execution_count": 38
        }
      ]
    },
    {
      "cell_type": "markdown",
      "source": [
        "Should do some hyperparameter tuning(XGBoost)"
      ],
      "metadata": {
        "id": "tofmuLMJQ9uS"
      },
      "id": "tofmuLMJQ9uS"
    },
    {
      "cell_type": "code",
      "source": [
        "y_pred=xgb_over.predict(X_test)\n",
        "print(f1_score(y_test, y_pred, average='binary'))\n",
        "print(precision_score(y_test,y_pred))\n",
        "print(recall_score(y_test,y_pred))"
      ],
      "metadata": {
        "colab": {
          "base_uri": "https://localhost:8080/"
        },
        "id": "XqEpeS8dQ3DO",
        "outputId": "5b5b5e4f-3d20-4a56-8a65-7b694592aa66"
      },
      "id": "XqEpeS8dQ3DO",
      "execution_count": 39,
      "outputs": [
        {
          "output_type": "stream",
          "name": "stdout",
          "text": [
            "0.19218804009678533\n",
            "0.10899823564007058\n",
            "0.8116788321167884\n"
          ]
        }
      ]
    },
    {
      "cell_type": "markdown",
      "source": [
        "No big difference in F1 score. \n",
        "Precision and recall => almost reversed"
      ],
      "metadata": {
        "id": "3rE0tEdWRnzB"
      },
      "id": "3rE0tEdWRnzB"
    },
    {
      "cell_type": "markdown",
      "source": [
        "## XGBoost Tuning after oversampling"
      ],
      "metadata": {
        "id": "DAfNSzgoS4yQ"
      },
      "id": "DAfNSzgoS4yQ"
    },
    {
      "cell_type": "markdown",
      "source": [
        "* TODO: make new column(groupby) => groupby avg, and then join I guess\n",
        "* decide the range of xgboost param tuning and then do gridsearch\n",
        "* should figure out if we can use fp rate as a eval on XGBoost\n",
        "* find the reason why precision and recall are reversed(considering the def of each)"
      ],
      "metadata": {
        "id": "KxuL6JkpXi3e"
      },
      "id": "KxuL6JkpXi3e"
    },
    {
      "cell_type": "code",
      "source": [
        "#Yunfan -your Gridsearch CV here"
      ],
      "metadata": {
        "id": "sNGqA0Lns8_F"
      },
      "id": "sNGqA0Lns8_F",
      "execution_count": 40,
      "outputs": []
    },
    {
      "cell_type": "markdown",
      "source": [
        "# Models\n",
        "\n",
        "\n"
      ],
      "metadata": {
        "id": "p0VDV0Kl2zv0"
      },
      "id": "p0VDV0Kl2zv0"
    },
    {
      "cell_type": "code",
      "source": [
        "#use X_train_resampled, y_train_resampled for training\n",
        "from sklearn.preprocessing import LabelEncoder\n",
        "from sklearn.linear_model import LogisticRegression\n",
        "from sklearn.svm import SVC\n",
        "from sklearn.preprocessing import StandardScaler\n",
        "from sklearn.gaussian_process import GaussianProcessClassifier\n",
        "from sklearn.tree import DecisionTreeClassifier\n",
        "from sklearn.ensemble import RandomForestClassifier, AdaBoostClassifier, VotingClassifier\n",
        "from sklearn.neural_network import MLPClassifier\n",
        "from sklearn.model_selection import GridSearchCV\n",
        "from sklearn.pipeline import make_pipeline"
      ],
      "metadata": {
        "id": "OOwt8MF-S2hQ"
      },
      "id": "OOwt8MF-S2hQ",
      "execution_count": 41,
      "outputs": []
    },
    {
      "cell_type": "markdown",
      "source": [
        "Logistic Regression"
      ],
      "metadata": {
        "id": "WzzknTKODOe9"
      },
      "id": "WzzknTKODOe9"
    },
    {
      "cell_type": "code",
      "execution_count": 42,
      "id": "f09ce739",
      "metadata": {
        "id": "f09ce739",
        "colab": {
          "base_uri": "https://localhost:8080/"
        },
        "outputId": "6b6acc07-6f9f-4510-c763-16b8cc1e7435"
      },
      "outputs": [
        {
          "output_type": "stream",
          "name": "stderr",
          "text": [
            "/usr/local/lib/python3.7/dist-packages/scipy/optimize/linesearch.py:478: LineSearchWarning: The line search algorithm did not converge\n",
            "  warn('The line search algorithm did not converge', LineSearchWarning)\n",
            "/usr/local/lib/python3.7/dist-packages/scipy/optimize/linesearch.py:327: LineSearchWarning: The line search algorithm did not converge\n",
            "  warn('The line search algorithm did not converge', LineSearchWarning)\n",
            "/usr/local/lib/python3.7/dist-packages/scipy/optimize/linesearch.py:478: LineSearchWarning: The line search algorithm did not converge\n",
            "  warn('The line search algorithm did not converge', LineSearchWarning)\n",
            "/usr/local/lib/python3.7/dist-packages/scipy/optimize/linesearch.py:327: LineSearchWarning: The line search algorithm did not converge\n",
            "  warn('The line search algorithm did not converge', LineSearchWarning)\n"
          ]
        },
        {
          "output_type": "execute_result",
          "data": {
            "text/plain": [
              "GridSearchCV(estimator=LogisticRegression(random_state=2022), n_jobs=-1,\n",
              "             param_grid={'fit_intercept': [True, False], 'max_iter': [1000],\n",
              "                         'solver': ['newton-cg', 'liblinear']},\n",
              "             scoring='recall')"
            ]
          },
          "metadata": {},
          "execution_count": 42
        }
      ],
      "source": [
        "# Tune Logistic Regression Model\n",
        "lg_over = LogisticRegression(random_state=2022)\n",
        "param_grid = {\n",
        "            'fit_intercept': [True, False], \n",
        "            'solver': ['newton-cg', 'liblinear'],\n",
        "            'max_iter': [1000],\n",
        "             }\n",
        "lg_over_grid_search = GridSearchCV(estimator=lg_over,\n",
        "                              param_grid=param_grid,\n",
        "                              scoring='recall',\n",
        "                              n_jobs=-1)\n",
        "lg_over_grid_search.fit(X_train_resampled, y_train_resampled) "
      ]
    },
    {
      "cell_type": "code",
      "source": [
        "lg_over_grid_search.best_params_"
      ],
      "metadata": {
        "colab": {
          "base_uri": "https://localhost:8080/"
        },
        "id": "PGSFqs5EWWhN",
        "outputId": "f4e0e149-5fca-4247-f0c0-ea946e8f8a5d"
      },
      "id": "PGSFqs5EWWhN",
      "execution_count": 43,
      "outputs": [
        {
          "output_type": "execute_result",
          "data": {
            "text/plain": [
              "{'fit_intercept': False, 'max_iter': 1000, 'solver': 'newton-cg'}"
            ]
          },
          "metadata": {},
          "execution_count": 43
        }
      ]
    },
    {
      "cell_type": "code",
      "execution_count": 44,
      "id": "a139fe69",
      "metadata": {
        "id": "a139fe69",
        "colab": {
          "base_uri": "https://localhost:8080/"
        },
        "outputId": "b74ee4ff-6680-459e-946e-bf89907afda5"
      },
      "outputs": [
        {
          "output_type": "stream",
          "name": "stdout",
          "text": [
            "0.18647031753336402\n",
            "0.10668773038441284\n",
            "0.7394160583941606\n"
          ]
        }
      ],
      "source": [
        "y_pred=lg_over_grid_search.predict(X_test)\n",
        "print(f1_score(y_test, y_pred, average='binary'))\n",
        "print(precision_score(y_test,y_pred))\n",
        "print(recall_score(y_test,y_pred))"
      ]
    },
    {
      "cell_type": "code",
      "execution_count": null,
      "id": "f59ccd00",
      "metadata": {
        "id": "f59ccd00"
      },
      "outputs": [],
      "source": []
    },
    {
      "cell_type": "markdown",
      "source": [
        "SVM"
      ],
      "metadata": {
        "id": "a1RNvtPXEkCa"
      },
      "id": "a1RNvtPXEkCa"
    },
    {
      "cell_type": "code",
      "source": [
        "# Took so loooong until the timeout \n",
        "# svm_over = make_pipeline(StandardScaler(), SVC(gamma='auto'))\n",
        "# svm_over.fit(X_train_resampled, y_train_resampled)"
      ],
      "metadata": {
        "id": "6nmoOa6BElyy"
      },
      "id": "6nmoOa6BElyy",
      "execution_count": null,
      "outputs": []
    },
    {
      "cell_type": "code",
      "source": [],
      "metadata": {
        "id": "vJQXqgE5W20V"
      },
      "id": "vJQXqgE5W20V",
      "execution_count": null,
      "outputs": []
    },
    {
      "cell_type": "markdown",
      "source": [
        "Random Forest"
      ],
      "metadata": {
        "id": "7YRDOOpP5Hu5"
      },
      "id": "7YRDOOpP5Hu5"
    },
    {
      "cell_type": "code",
      "source": [
        "rf_over = RandomForestClassifier()\n",
        "rf_over.fit(X_train_resampled, y_train_resampled) "
      ],
      "metadata": {
        "id": "drXnv9MEW1lj",
        "colab": {
          "base_uri": "https://localhost:8080/"
        },
        "outputId": "aa22d6b8-bb17-4628-c2db-ee413b5b22b9"
      },
      "id": "drXnv9MEW1lj",
      "execution_count": 46,
      "outputs": [
        {
          "output_type": "execute_result",
          "data": {
            "text/plain": [
              "RandomForestClassifier()"
            ]
          },
          "metadata": {},
          "execution_count": 46
        }
      ]
    },
    {
      "cell_type": "code",
      "source": [
        "y_pred=rf_over.predict(X_test)\n",
        "print(f1_score(y_test, y_pred, average='binary'))\n",
        "print(precision_score(y_test,y_pred))\n",
        "print(recall_score(y_test,y_pred))"
      ],
      "metadata": {
        "colab": {
          "base_uri": "https://localhost:8080/"
        },
        "id": "7oUD1PfJmlzj",
        "outputId": "1671b13d-b0ef-49f4-d657-1dcdff249b0d"
      },
      "id": "7oUD1PfJmlzj",
      "execution_count": 47,
      "outputs": [
        {
          "output_type": "stream",
          "name": "stdout",
          "text": [
            "0.3520374081496326\n",
            "0.32450738916256155\n",
            "0.38467153284671535\n"
          ]
        }
      ]
    },
    {
      "cell_type": "code",
      "execution_count": null,
      "id": "2f668575",
      "metadata": {
        "id": "2f668575"
      },
      "outputs": [],
      "source": [
        "# Tune random forest model\n",
        "rf_over = RandomForestClassifier(random_state=0)\n",
        "param_grid = {\n",
        "        'n_estimators': [5, 10, 15, 20, 25, 30, 40, 50, 100],\n",
        "        'criterion': ['gini', 'entropy'],\n",
        "        'max_depth':  [2, 4, 6, 8, 10, None],    \n",
        "        }\n",
        "rf_over_grid_search = GridSearchCV(estimator=rf_over,\n",
        "                              param_grid=param_grid,\n",
        "                              scoring='recall',\n",
        "                              n_jobs=-1)\n",
        "rf_over_grid_search.fit(X_train_resampled, y_train_resampled) "
      ]
    },
    {
      "cell_type": "code",
      "source": [
        "# y_pred=rf_over_grid_search.predict(X_test)\n",
        "# print(f1_score(y_test, y_pred, average='binary'))\n",
        "# print(precision_score(y_test,y_pred))\n",
        "# print(recall_score(y_test,y_pred))"
      ],
      "metadata": {
        "id": "pO5dNwcw7nKc"
      },
      "id": "pO5dNwcw7nKc",
      "execution_count": null,
      "outputs": []
    },
    {
      "cell_type": "code",
      "source": [],
      "metadata": {
        "id": "BQvuHhUr7mLk"
      },
      "id": "BQvuHhUr7mLk",
      "execution_count": null,
      "outputs": []
    },
    {
      "cell_type": "markdown",
      "source": [
        "MLP"
      ],
      "metadata": {
        "id": "Di8BWOsC8XTs"
      },
      "id": "Di8BWOsC8XTs"
    },
    {
      "cell_type": "code",
      "source": [
        "# Tune MLP Model\n",
        "mlp_over = MLPClassifier()\n",
        "param_grid = {\n",
        "            'activation': ['logistic', 'tanh', 'relu'],\n",
        "            'alpha': [0.0001, 0.001, 0.01, 1, 10],\n",
        "            'max_iter': [1000]\n",
        "            }\n",
        "mlp_over_grid_search = GridSearchCV(estimator=mlp_over,\n",
        "                              param_grid=param_grid,\n",
        "                              scoring='recall',\n",
        "                              n_jobs=-1)\n",
        "mlp_over_grid_search.fit(X_train_resampled, y_train_resampled) "
      ],
      "metadata": {
        "id": "wozqJifd8qEL"
      },
      "id": "wozqJifd8qEL",
      "execution_count": null,
      "outputs": []
    },
    {
      "cell_type": "code",
      "source": [
        "y_pred=mlp_over_grid_search.predict(X_test)\n",
        "print(f1_score(y_test, y_pred, average='binary'))\n",
        "print(precision_score(y_test,y_pred))\n",
        "print(recall_score(y_test,y_pred))"
      ],
      "metadata": {
        "id": "tYhDq4k39jZh"
      },
      "id": "tYhDq4k39jZh",
      "execution_count": null,
      "outputs": []
    },
    {
      "cell_type": "code",
      "source": [],
      "metadata": {
        "id": "SBeOzIZh_ZQd"
      },
      "id": "SBeOzIZh_ZQd",
      "execution_count": null,
      "outputs": []
    },
    {
      "cell_type": "markdown",
      "source": [
        "XGBoost"
      ],
      "metadata": {
        "id": "CRDmX2qm_bAB"
      },
      "id": "CRDmX2qm_bAB"
    },
    {
      "cell_type": "code",
      "source": [
        "# Tune XGBoost Model\n",
        "xgb_over = XGBClassifier(\n",
        "    objective= 'binary:logistic',\n",
        "    nthread=4,\n",
        "    seed=2022\n",
        ")\n",
        "param_grid = {\n",
        "            'max_depth': range(2, 10, 1),\n",
        "            'n_estimators': range(60, 220, 40),\n",
        "            'learning_rate': [0.1, 0.01, 0.05]\n",
        "            }\n",
        "xgb_over_grid_search = GridSearchCV(estimator=xgb_over,\n",
        "                              param_grid=param_grid,\n",
        "                              scoring='recall',\n",
        "                              n_jobs=-1)\n",
        "xgb_over_grid_search.fit(X_train_resampled, y_train_resampled) "
      ],
      "metadata": {
        "id": "c2nX7508_g46"
      },
      "id": "c2nX7508_g46",
      "execution_count": null,
      "outputs": []
    },
    {
      "cell_type": "code",
      "source": [
        "y_pred=xgb_over_grid_search.predict(X_test)\n",
        "print(f1_score(y_test, y_pred, average='binary'))\n",
        "print(precision_score(y_test,y_pred))\n",
        "print(recall_score(y_test,y_pred))"
      ],
      "metadata": {
        "id": "CCz4BW2nCn6i"
      },
      "id": "CCz4BW2nCn6i",
      "execution_count": null,
      "outputs": []
    },
    {
      "cell_type": "code",
      "source": [],
      "metadata": {
        "id": "Sgx2qUbPDBlf"
      },
      "id": "Sgx2qUbPDBlf",
      "execution_count": null,
      "outputs": []
    },
    {
      "cell_type": "markdown",
      "source": [],
      "metadata": {
        "id": "OOQ1WcIpDDKD"
      },
      "id": "OOQ1WcIpDDKD"
    }
  ],
  "metadata": {
    "kernelspec": {
      "display_name": "Python 3 (ipykernel)",
      "language": "python",
      "name": "python3"
    },
    "language_info": {
      "codemirror_mode": {
        "name": "ipython",
        "version": 3
      },
      "file_extension": ".py",
      "mimetype": "text/x-python",
      "name": "python",
      "nbconvert_exporter": "python",
      "pygments_lexer": "ipython3",
      "version": "3.9.13"
    },
    "colab": {
      "provenance": [],
      "include_colab_link": true
    }
  },
  "nbformat": 4,
  "nbformat_minor": 5
}